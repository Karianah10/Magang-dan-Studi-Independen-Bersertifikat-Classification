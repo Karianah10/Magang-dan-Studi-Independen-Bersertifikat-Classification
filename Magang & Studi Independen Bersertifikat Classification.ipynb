{
  "nbformat": 4,
  "nbformat_minor": 0,
  "metadata": {
    "colab": {
      "provenance": [],
      "toc_visible": true
    },
    "kernelspec": {
      "name": "python3",
      "display_name": "Python 3"
    },
    "language_info": {
      "name": "python"
    }
  },
  "cells": [
    {
      "cell_type": "markdown",
      "source": [
        "# Data Understanding\n",
        "\n",
        "\n"
      ],
      "metadata": {
        "id": "tGCFo6PjbVuI"
      }
    },
    {
      "cell_type": "code",
      "source": [
        "import pandas as pd\n",
        "\n",
        "data = pd.read_csv('/content/drive/MyDrive/SKRIPSI KARIANAH NITIP/MSIBdataset.csv')\n",
        "data"
      ],
      "metadata": {
        "id": "SQgWwAEHFZy_",
        "colab": {
          "base_uri": "https://localhost:8080/",
          "height": 696
        },
        "outputId": "b31b9f0b-247c-4d0d-dab8-bd2f65ac78d8"
      },
      "execution_count": null,
      "outputs": [
        {
          "output_type": "execute_result",
          "data": {
            "text/plain": [
              "        Program Studi  Percobaan Mendaftar  Batch           Program  Semester  \\\n",
              "0         Informatika                    1      3            Magang         7   \n",
              "1         Informatika                    1      2  Studi Independen         5   \n",
              "2         Informatika                    2      3            Magang         7   \n",
              "3    Sistem Informasi                    2      2  Studi Independen         6   \n",
              "4         Informatika                    3      1            Magang         5   \n",
              "..                ...                  ...    ...               ...       ...   \n",
              "248  Sistem Informasi                    1      3  Studi Independen         5   \n",
              "249  Sistem Informasi                    1      3  Studi Independen         5   \n",
              "250  Sistem Informasi                    1      3  Studi Independen         5   \n",
              "251  Sistem Informasi                    1      3            Magang         5   \n",
              "252  Sistem Informasi                    1      3  Studi Independen         5   \n",
              "\n",
              "    Respon Mitra       CV   IPK Sertifikat Kompetensi Portofolio Waktu Daftar  \\\n",
              "0             Ya      ATS  3.78    Tidak mencantumkan      Tidak         Awal   \n",
              "1             Ya      ATS  3.60                    Ya         Ya         Awal   \n",
              "2          Tidak  Kreatif  3.94                    Ya         Ya         Awal   \n",
              "3          Tidak  Kreatif  3.23                    Ya         Ya        Akhir   \n",
              "4          Tidak  Kreatif  3.85    Tidak mencantumkan         Ya        Akhir   \n",
              "..           ...      ...   ...                   ...        ...          ...   \n",
              "248           Ya      ATS  3.86    Tidak mencantumkan      Tidak         Awal   \n",
              "249           Ya      ATS  3.95    Tidak mencantumkan      Tidak         Awal   \n",
              "250           Ya      ATS  3.92    Tidak mencantumkan         Ya        Akhir   \n",
              "251           Ya  Kreatif  3.80          Tidak sesuai      Tidak        Akhir   \n",
              "252           Ya      ATS  3.73    Tidak mencantumkan      Tidak         Awal   \n",
              "\n",
              "    Selinear dg jurusan  Jumlah Mitra Test Teknikal    Wawancara  Lolos  \n",
              "0                 Tidak            30         Lolos        Lolos      1  \n",
              "1                    Ya             5         Lolos    Tidak Ada      1  \n",
              "2                    Ya             3         Lolos  Tidak Lolos      0  \n",
              "3                    Ya             3   Tidak Lolos    Tidak Ada      0  \n",
              "4                    Ya             3   Tidak Lolos    Tidak Ada      0  \n",
              "..                  ...           ...           ...          ...    ...  \n",
              "248                  Ya            30         Lolos    Tidak Ada      1  \n",
              "249               Tidak            20     Tidak Ada    Tidak Ada      1  \n",
              "250                  Ya            10         Lolos    Tidak Ada      1  \n",
              "251                  Ya            10     Tidak Ada    Tidak Ada      0  \n",
              "252                  Ya            12         Lolos    Tidak Ada      1  \n",
              "\n",
              "[253 rows x 16 columns]"
            ],
            "text/html": [
              "\n",
              "  <div id=\"df-c1bcd1b4-eaaa-4c5e-8b11-70646f6e612e\">\n",
              "    <div class=\"colab-df-container\">\n",
              "      <div>\n",
              "<style scoped>\n",
              "    .dataframe tbody tr th:only-of-type {\n",
              "        vertical-align: middle;\n",
              "    }\n",
              "\n",
              "    .dataframe tbody tr th {\n",
              "        vertical-align: top;\n",
              "    }\n",
              "\n",
              "    .dataframe thead th {\n",
              "        text-align: right;\n",
              "    }\n",
              "</style>\n",
              "<table border=\"1\" class=\"dataframe\">\n",
              "  <thead>\n",
              "    <tr style=\"text-align: right;\">\n",
              "      <th></th>\n",
              "      <th>Program Studi</th>\n",
              "      <th>Percobaan Mendaftar</th>\n",
              "      <th>Batch</th>\n",
              "      <th>Program</th>\n",
              "      <th>Semester</th>\n",
              "      <th>Respon Mitra</th>\n",
              "      <th>CV</th>\n",
              "      <th>IPK</th>\n",
              "      <th>Sertifikat Kompetensi</th>\n",
              "      <th>Portofolio</th>\n",
              "      <th>Waktu Daftar</th>\n",
              "      <th>Selinear dg jurusan</th>\n",
              "      <th>Jumlah Mitra</th>\n",
              "      <th>Test Teknikal</th>\n",
              "      <th>Wawancara</th>\n",
              "      <th>Lolos</th>\n",
              "    </tr>\n",
              "  </thead>\n",
              "  <tbody>\n",
              "    <tr>\n",
              "      <th>0</th>\n",
              "      <td>Informatika</td>\n",
              "      <td>1</td>\n",
              "      <td>3</td>\n",
              "      <td>Magang</td>\n",
              "      <td>7</td>\n",
              "      <td>Ya</td>\n",
              "      <td>ATS</td>\n",
              "      <td>3.78</td>\n",
              "      <td>Tidak mencantumkan</td>\n",
              "      <td>Tidak</td>\n",
              "      <td>Awal</td>\n",
              "      <td>Tidak</td>\n",
              "      <td>30</td>\n",
              "      <td>Lolos</td>\n",
              "      <td>Lolos</td>\n",
              "      <td>1</td>\n",
              "    </tr>\n",
              "    <tr>\n",
              "      <th>1</th>\n",
              "      <td>Informatika</td>\n",
              "      <td>1</td>\n",
              "      <td>2</td>\n",
              "      <td>Studi Independen</td>\n",
              "      <td>5</td>\n",
              "      <td>Ya</td>\n",
              "      <td>ATS</td>\n",
              "      <td>3.60</td>\n",
              "      <td>Ya</td>\n",
              "      <td>Ya</td>\n",
              "      <td>Awal</td>\n",
              "      <td>Ya</td>\n",
              "      <td>5</td>\n",
              "      <td>Lolos</td>\n",
              "      <td>Tidak Ada</td>\n",
              "      <td>1</td>\n",
              "    </tr>\n",
              "    <tr>\n",
              "      <th>2</th>\n",
              "      <td>Informatika</td>\n",
              "      <td>2</td>\n",
              "      <td>3</td>\n",
              "      <td>Magang</td>\n",
              "      <td>7</td>\n",
              "      <td>Tidak</td>\n",
              "      <td>Kreatif</td>\n",
              "      <td>3.94</td>\n",
              "      <td>Ya</td>\n",
              "      <td>Ya</td>\n",
              "      <td>Awal</td>\n",
              "      <td>Ya</td>\n",
              "      <td>3</td>\n",
              "      <td>Lolos</td>\n",
              "      <td>Tidak Lolos</td>\n",
              "      <td>0</td>\n",
              "    </tr>\n",
              "    <tr>\n",
              "      <th>3</th>\n",
              "      <td>Sistem Informasi</td>\n",
              "      <td>2</td>\n",
              "      <td>2</td>\n",
              "      <td>Studi Independen</td>\n",
              "      <td>6</td>\n",
              "      <td>Tidak</td>\n",
              "      <td>Kreatif</td>\n",
              "      <td>3.23</td>\n",
              "      <td>Ya</td>\n",
              "      <td>Ya</td>\n",
              "      <td>Akhir</td>\n",
              "      <td>Ya</td>\n",
              "      <td>3</td>\n",
              "      <td>Tidak Lolos</td>\n",
              "      <td>Tidak Ada</td>\n",
              "      <td>0</td>\n",
              "    </tr>\n",
              "    <tr>\n",
              "      <th>4</th>\n",
              "      <td>Informatika</td>\n",
              "      <td>3</td>\n",
              "      <td>1</td>\n",
              "      <td>Magang</td>\n",
              "      <td>5</td>\n",
              "      <td>Tidak</td>\n",
              "      <td>Kreatif</td>\n",
              "      <td>3.85</td>\n",
              "      <td>Tidak mencantumkan</td>\n",
              "      <td>Ya</td>\n",
              "      <td>Akhir</td>\n",
              "      <td>Ya</td>\n",
              "      <td>3</td>\n",
              "      <td>Tidak Lolos</td>\n",
              "      <td>Tidak Ada</td>\n",
              "      <td>0</td>\n",
              "    </tr>\n",
              "    <tr>\n",
              "      <th>...</th>\n",
              "      <td>...</td>\n",
              "      <td>...</td>\n",
              "      <td>...</td>\n",
              "      <td>...</td>\n",
              "      <td>...</td>\n",
              "      <td>...</td>\n",
              "      <td>...</td>\n",
              "      <td>...</td>\n",
              "      <td>...</td>\n",
              "      <td>...</td>\n",
              "      <td>...</td>\n",
              "      <td>...</td>\n",
              "      <td>...</td>\n",
              "      <td>...</td>\n",
              "      <td>...</td>\n",
              "      <td>...</td>\n",
              "    </tr>\n",
              "    <tr>\n",
              "      <th>248</th>\n",
              "      <td>Sistem Informasi</td>\n",
              "      <td>1</td>\n",
              "      <td>3</td>\n",
              "      <td>Studi Independen</td>\n",
              "      <td>5</td>\n",
              "      <td>Ya</td>\n",
              "      <td>ATS</td>\n",
              "      <td>3.86</td>\n",
              "      <td>Tidak mencantumkan</td>\n",
              "      <td>Tidak</td>\n",
              "      <td>Awal</td>\n",
              "      <td>Ya</td>\n",
              "      <td>30</td>\n",
              "      <td>Lolos</td>\n",
              "      <td>Tidak Ada</td>\n",
              "      <td>1</td>\n",
              "    </tr>\n",
              "    <tr>\n",
              "      <th>249</th>\n",
              "      <td>Sistem Informasi</td>\n",
              "      <td>1</td>\n",
              "      <td>3</td>\n",
              "      <td>Studi Independen</td>\n",
              "      <td>5</td>\n",
              "      <td>Ya</td>\n",
              "      <td>ATS</td>\n",
              "      <td>3.95</td>\n",
              "      <td>Tidak mencantumkan</td>\n",
              "      <td>Tidak</td>\n",
              "      <td>Awal</td>\n",
              "      <td>Tidak</td>\n",
              "      <td>20</td>\n",
              "      <td>Tidak Ada</td>\n",
              "      <td>Tidak Ada</td>\n",
              "      <td>1</td>\n",
              "    </tr>\n",
              "    <tr>\n",
              "      <th>250</th>\n",
              "      <td>Sistem Informasi</td>\n",
              "      <td>1</td>\n",
              "      <td>3</td>\n",
              "      <td>Studi Independen</td>\n",
              "      <td>5</td>\n",
              "      <td>Ya</td>\n",
              "      <td>ATS</td>\n",
              "      <td>3.92</td>\n",
              "      <td>Tidak mencantumkan</td>\n",
              "      <td>Ya</td>\n",
              "      <td>Akhir</td>\n",
              "      <td>Ya</td>\n",
              "      <td>10</td>\n",
              "      <td>Lolos</td>\n",
              "      <td>Tidak Ada</td>\n",
              "      <td>1</td>\n",
              "    </tr>\n",
              "    <tr>\n",
              "      <th>251</th>\n",
              "      <td>Sistem Informasi</td>\n",
              "      <td>1</td>\n",
              "      <td>3</td>\n",
              "      <td>Magang</td>\n",
              "      <td>5</td>\n",
              "      <td>Ya</td>\n",
              "      <td>Kreatif</td>\n",
              "      <td>3.80</td>\n",
              "      <td>Tidak sesuai</td>\n",
              "      <td>Tidak</td>\n",
              "      <td>Akhir</td>\n",
              "      <td>Ya</td>\n",
              "      <td>10</td>\n",
              "      <td>Tidak Ada</td>\n",
              "      <td>Tidak Ada</td>\n",
              "      <td>0</td>\n",
              "    </tr>\n",
              "    <tr>\n",
              "      <th>252</th>\n",
              "      <td>Sistem Informasi</td>\n",
              "      <td>1</td>\n",
              "      <td>3</td>\n",
              "      <td>Studi Independen</td>\n",
              "      <td>5</td>\n",
              "      <td>Ya</td>\n",
              "      <td>ATS</td>\n",
              "      <td>3.73</td>\n",
              "      <td>Tidak mencantumkan</td>\n",
              "      <td>Tidak</td>\n",
              "      <td>Awal</td>\n",
              "      <td>Ya</td>\n",
              "      <td>12</td>\n",
              "      <td>Lolos</td>\n",
              "      <td>Tidak Ada</td>\n",
              "      <td>1</td>\n",
              "    </tr>\n",
              "  </tbody>\n",
              "</table>\n",
              "<p>253 rows × 16 columns</p>\n",
              "</div>\n",
              "      <button class=\"colab-df-convert\" onclick=\"convertToInteractive('df-c1bcd1b4-eaaa-4c5e-8b11-70646f6e612e')\"\n",
              "              title=\"Convert this dataframe to an interactive table.\"\n",
              "              style=\"display:none;\">\n",
              "        \n",
              "  <svg xmlns=\"http://www.w3.org/2000/svg\" height=\"24px\"viewBox=\"0 0 24 24\"\n",
              "       width=\"24px\">\n",
              "    <path d=\"M0 0h24v24H0V0z\" fill=\"none\"/>\n",
              "    <path d=\"M18.56 5.44l.94 2.06.94-2.06 2.06-.94-2.06-.94-.94-2.06-.94 2.06-2.06.94zm-11 1L8.5 8.5l.94-2.06 2.06-.94-2.06-.94L8.5 2.5l-.94 2.06-2.06.94zm10 10l.94 2.06.94-2.06 2.06-.94-2.06-.94-.94-2.06-.94 2.06-2.06.94z\"/><path d=\"M17.41 7.96l-1.37-1.37c-.4-.4-.92-.59-1.43-.59-.52 0-1.04.2-1.43.59L10.3 9.45l-7.72 7.72c-.78.78-.78 2.05 0 2.83L4 21.41c.39.39.9.59 1.41.59.51 0 1.02-.2 1.41-.59l7.78-7.78 2.81-2.81c.8-.78.8-2.07 0-2.86zM5.41 20L4 18.59l7.72-7.72 1.47 1.35L5.41 20z\"/>\n",
              "  </svg>\n",
              "      </button>\n",
              "      \n",
              "  <style>\n",
              "    .colab-df-container {\n",
              "      display:flex;\n",
              "      flex-wrap:wrap;\n",
              "      gap: 12px;\n",
              "    }\n",
              "\n",
              "    .colab-df-convert {\n",
              "      background-color: #E8F0FE;\n",
              "      border: none;\n",
              "      border-radius: 50%;\n",
              "      cursor: pointer;\n",
              "      display: none;\n",
              "      fill: #1967D2;\n",
              "      height: 32px;\n",
              "      padding: 0 0 0 0;\n",
              "      width: 32px;\n",
              "    }\n",
              "\n",
              "    .colab-df-convert:hover {\n",
              "      background-color: #E2EBFA;\n",
              "      box-shadow: 0px 1px 2px rgba(60, 64, 67, 0.3), 0px 1px 3px 1px rgba(60, 64, 67, 0.15);\n",
              "      fill: #174EA6;\n",
              "    }\n",
              "\n",
              "    [theme=dark] .colab-df-convert {\n",
              "      background-color: #3B4455;\n",
              "      fill: #D2E3FC;\n",
              "    }\n",
              "\n",
              "    [theme=dark] .colab-df-convert:hover {\n",
              "      background-color: #434B5C;\n",
              "      box-shadow: 0px 1px 3px 1px rgba(0, 0, 0, 0.15);\n",
              "      filter: drop-shadow(0px 1px 2px rgba(0, 0, 0, 0.3));\n",
              "      fill: #FFFFFF;\n",
              "    }\n",
              "  </style>\n",
              "\n",
              "      <script>\n",
              "        const buttonEl =\n",
              "          document.querySelector('#df-c1bcd1b4-eaaa-4c5e-8b11-70646f6e612e button.colab-df-convert');\n",
              "        buttonEl.style.display =\n",
              "          google.colab.kernel.accessAllowed ? 'block' : 'none';\n",
              "\n",
              "        async function convertToInteractive(key) {\n",
              "          const element = document.querySelector('#df-c1bcd1b4-eaaa-4c5e-8b11-70646f6e612e');\n",
              "          const dataTable =\n",
              "            await google.colab.kernel.invokeFunction('convertToInteractive',\n",
              "                                                     [key], {});\n",
              "          if (!dataTable) return;\n",
              "\n",
              "          const docLinkHtml = 'Like what you see? Visit the ' +\n",
              "            '<a target=\"_blank\" href=https://colab.research.google.com/notebooks/data_table.ipynb>data table notebook</a>'\n",
              "            + ' to learn more about interactive tables.';\n",
              "          element.innerHTML = '';\n",
              "          dataTable['output_type'] = 'display_data';\n",
              "          await google.colab.output.renderOutput(dataTable, element);\n",
              "          const docLink = document.createElement('div');\n",
              "          docLink.innerHTML = docLinkHtml;\n",
              "          element.appendChild(docLink);\n",
              "        }\n",
              "      </script>\n",
              "    </div>\n",
              "  </div>\n",
              "  "
            ]
          },
          "metadata": {},
          "execution_count": 1
        }
      ]
    },
    {
      "cell_type": "code",
      "source": [
        "data.info()"
      ],
      "metadata": {
        "id": "LQv9u1Q33Fc9",
        "colab": {
          "base_uri": "https://localhost:8080/"
        },
        "outputId": "ce84e5d3-9eab-46ce-e5e1-8cc409e0aae6"
      },
      "execution_count": null,
      "outputs": [
        {
          "output_type": "stream",
          "name": "stdout",
          "text": [
            "<class 'pandas.core.frame.DataFrame'>\n",
            "RangeIndex: 253 entries, 0 to 252\n",
            "Data columns (total 16 columns):\n",
            " #   Column                 Non-Null Count  Dtype  \n",
            "---  ------                 --------------  -----  \n",
            " 0   Program Studi          253 non-null    object \n",
            " 1   Percobaan Mendaftar    253 non-null    int64  \n",
            " 2   Batch                  253 non-null    int64  \n",
            " 3   Program                253 non-null    object \n",
            " 4   Semester               253 non-null    int64  \n",
            " 5   Respon Mitra           253 non-null    object \n",
            " 6   CV                     253 non-null    object \n",
            " 7   IPK                    253 non-null    float64\n",
            " 8   Sertifikat Kompetensi  253 non-null    object \n",
            " 9   Portofolio             253 non-null    object \n",
            " 10  Waktu Daftar           253 non-null    object \n",
            " 11  Selinear dg jurusan    253 non-null    object \n",
            " 12  Jumlah Mitra           253 non-null    int64  \n",
            " 13  Test Teknikal          253 non-null    object \n",
            " 14  Wawancara              253 non-null    object \n",
            " 15  Lolos                  253 non-null    int64  \n",
            "dtypes: float64(1), int64(5), object(10)\n",
            "memory usage: 31.8+ KB\n"
          ]
        }
      ]
    },
    {
      "cell_type": "code",
      "source": [
        "data.isnull().sum()"
      ],
      "metadata": {
        "id": "59TSXgUx3FjC",
        "colab": {
          "base_uri": "https://localhost:8080/"
        },
        "outputId": "87cccba7-f95e-4d5c-ac61-4fbe42b37504"
      },
      "execution_count": null,
      "outputs": [
        {
          "output_type": "execute_result",
          "data": {
            "text/plain": [
              "Program Studi            0\n",
              "Percobaan Mendaftar      0\n",
              "Batch                    0\n",
              "Program                  0\n",
              "Semester                 0\n",
              "Respon Mitra             0\n",
              "CV                       0\n",
              "IPK                      0\n",
              "Sertifikat Kompetensi    0\n",
              "Portofolio               0\n",
              "Waktu Daftar             0\n",
              "Selinear dg jurusan      0\n",
              "Jumlah Mitra             0\n",
              "Test Teknikal            0\n",
              "Wawancara                0\n",
              "Lolos                    0\n",
              "dtype: int64"
            ]
          },
          "metadata": {},
          "execution_count": 3
        }
      ]
    },
    {
      "cell_type": "code",
      "source": [
        "print(data.columns)"
      ],
      "metadata": {
        "id": "K2ByysPeX2Qr",
        "colab": {
          "base_uri": "https://localhost:8080/"
        },
        "outputId": "8a209b3f-1c46-4ea4-c8e5-c1fe8083100c"
      },
      "execution_count": null,
      "outputs": [
        {
          "output_type": "stream",
          "name": "stdout",
          "text": [
            "Index(['Program Studi', 'Percobaan Mendaftar', 'Batch', 'Program', 'Semester',\n",
            "       'Respon Mitra', 'CV', 'IPK', 'Sertifikat Kompetensi', 'Portofolio',\n",
            "       'Waktu Daftar', 'Selinear dg jurusan', 'Jumlah Mitra', 'Test Teknikal',\n",
            "       'Wawancara', 'Lolos'],\n",
            "      dtype='object')\n"
          ]
        }
      ]
    },
    {
      "cell_type": "code",
      "source": [
        "data.describe()"
      ],
      "metadata": {
        "id": "ZLhTexxkuPfh",
        "colab": {
          "base_uri": "https://localhost:8080/",
          "height": 300
        },
        "outputId": "ad5ad6d5-49d6-44ae-b5cd-40f57fd64cfe"
      },
      "execution_count": null,
      "outputs": [
        {
          "output_type": "execute_result",
          "data": {
            "text/plain": [
              "       Percobaan Mendaftar       Batch    Semester         IPK  Jumlah Mitra  \\\n",
              "count           253.000000  253.000000  253.000000  253.000000    253.000000   \n",
              "mean              1.691700    2.031621    6.229249    3.693320     14.407115   \n",
              "std               0.548998    0.760501    1.036446    0.217533     19.632038   \n",
              "min               1.000000    1.000000    5.000000    3.000000      1.000000   \n",
              "25%               1.000000    1.000000    5.000000    3.600000      5.000000   \n",
              "50%               2.000000    2.000000    6.000000    3.760000     10.000000   \n",
              "75%               2.000000    3.000000    7.000000    3.850000     16.000000   \n",
              "max               3.000000    3.000000    8.000000    4.000000    235.000000   \n",
              "\n",
              "            Lolos  \n",
              "count  253.000000  \n",
              "mean     0.573123  \n",
              "std      0.495605  \n",
              "min      0.000000  \n",
              "25%      0.000000  \n",
              "50%      1.000000  \n",
              "75%      1.000000  \n",
              "max      1.000000  "
            ],
            "text/html": [
              "\n",
              "  <div id=\"df-6792280a-4a07-4e30-ad1f-c2cb63ef6005\">\n",
              "    <div class=\"colab-df-container\">\n",
              "      <div>\n",
              "<style scoped>\n",
              "    .dataframe tbody tr th:only-of-type {\n",
              "        vertical-align: middle;\n",
              "    }\n",
              "\n",
              "    .dataframe tbody tr th {\n",
              "        vertical-align: top;\n",
              "    }\n",
              "\n",
              "    .dataframe thead th {\n",
              "        text-align: right;\n",
              "    }\n",
              "</style>\n",
              "<table border=\"1\" class=\"dataframe\">\n",
              "  <thead>\n",
              "    <tr style=\"text-align: right;\">\n",
              "      <th></th>\n",
              "      <th>Percobaan Mendaftar</th>\n",
              "      <th>Batch</th>\n",
              "      <th>Semester</th>\n",
              "      <th>IPK</th>\n",
              "      <th>Jumlah Mitra</th>\n",
              "      <th>Lolos</th>\n",
              "    </tr>\n",
              "  </thead>\n",
              "  <tbody>\n",
              "    <tr>\n",
              "      <th>count</th>\n",
              "      <td>253.000000</td>\n",
              "      <td>253.000000</td>\n",
              "      <td>253.000000</td>\n",
              "      <td>253.000000</td>\n",
              "      <td>253.000000</td>\n",
              "      <td>253.000000</td>\n",
              "    </tr>\n",
              "    <tr>\n",
              "      <th>mean</th>\n",
              "      <td>1.691700</td>\n",
              "      <td>2.031621</td>\n",
              "      <td>6.229249</td>\n",
              "      <td>3.693320</td>\n",
              "      <td>14.407115</td>\n",
              "      <td>0.573123</td>\n",
              "    </tr>\n",
              "    <tr>\n",
              "      <th>std</th>\n",
              "      <td>0.548998</td>\n",
              "      <td>0.760501</td>\n",
              "      <td>1.036446</td>\n",
              "      <td>0.217533</td>\n",
              "      <td>19.632038</td>\n",
              "      <td>0.495605</td>\n",
              "    </tr>\n",
              "    <tr>\n",
              "      <th>min</th>\n",
              "      <td>1.000000</td>\n",
              "      <td>1.000000</td>\n",
              "      <td>5.000000</td>\n",
              "      <td>3.000000</td>\n",
              "      <td>1.000000</td>\n",
              "      <td>0.000000</td>\n",
              "    </tr>\n",
              "    <tr>\n",
              "      <th>25%</th>\n",
              "      <td>1.000000</td>\n",
              "      <td>1.000000</td>\n",
              "      <td>5.000000</td>\n",
              "      <td>3.600000</td>\n",
              "      <td>5.000000</td>\n",
              "      <td>0.000000</td>\n",
              "    </tr>\n",
              "    <tr>\n",
              "      <th>50%</th>\n",
              "      <td>2.000000</td>\n",
              "      <td>2.000000</td>\n",
              "      <td>6.000000</td>\n",
              "      <td>3.760000</td>\n",
              "      <td>10.000000</td>\n",
              "      <td>1.000000</td>\n",
              "    </tr>\n",
              "    <tr>\n",
              "      <th>75%</th>\n",
              "      <td>2.000000</td>\n",
              "      <td>3.000000</td>\n",
              "      <td>7.000000</td>\n",
              "      <td>3.850000</td>\n",
              "      <td>16.000000</td>\n",
              "      <td>1.000000</td>\n",
              "    </tr>\n",
              "    <tr>\n",
              "      <th>max</th>\n",
              "      <td>3.000000</td>\n",
              "      <td>3.000000</td>\n",
              "      <td>8.000000</td>\n",
              "      <td>4.000000</td>\n",
              "      <td>235.000000</td>\n",
              "      <td>1.000000</td>\n",
              "    </tr>\n",
              "  </tbody>\n",
              "</table>\n",
              "</div>\n",
              "      <button class=\"colab-df-convert\" onclick=\"convertToInteractive('df-6792280a-4a07-4e30-ad1f-c2cb63ef6005')\"\n",
              "              title=\"Convert this dataframe to an interactive table.\"\n",
              "              style=\"display:none;\">\n",
              "        \n",
              "  <svg xmlns=\"http://www.w3.org/2000/svg\" height=\"24px\"viewBox=\"0 0 24 24\"\n",
              "       width=\"24px\">\n",
              "    <path d=\"M0 0h24v24H0V0z\" fill=\"none\"/>\n",
              "    <path d=\"M18.56 5.44l.94 2.06.94-2.06 2.06-.94-2.06-.94-.94-2.06-.94 2.06-2.06.94zm-11 1L8.5 8.5l.94-2.06 2.06-.94-2.06-.94L8.5 2.5l-.94 2.06-2.06.94zm10 10l.94 2.06.94-2.06 2.06-.94-2.06-.94-.94-2.06-.94 2.06-2.06.94z\"/><path d=\"M17.41 7.96l-1.37-1.37c-.4-.4-.92-.59-1.43-.59-.52 0-1.04.2-1.43.59L10.3 9.45l-7.72 7.72c-.78.78-.78 2.05 0 2.83L4 21.41c.39.39.9.59 1.41.59.51 0 1.02-.2 1.41-.59l7.78-7.78 2.81-2.81c.8-.78.8-2.07 0-2.86zM5.41 20L4 18.59l7.72-7.72 1.47 1.35L5.41 20z\"/>\n",
              "  </svg>\n",
              "      </button>\n",
              "      \n",
              "  <style>\n",
              "    .colab-df-container {\n",
              "      display:flex;\n",
              "      flex-wrap:wrap;\n",
              "      gap: 12px;\n",
              "    }\n",
              "\n",
              "    .colab-df-convert {\n",
              "      background-color: #E8F0FE;\n",
              "      border: none;\n",
              "      border-radius: 50%;\n",
              "      cursor: pointer;\n",
              "      display: none;\n",
              "      fill: #1967D2;\n",
              "      height: 32px;\n",
              "      padding: 0 0 0 0;\n",
              "      width: 32px;\n",
              "    }\n",
              "\n",
              "    .colab-df-convert:hover {\n",
              "      background-color: #E2EBFA;\n",
              "      box-shadow: 0px 1px 2px rgba(60, 64, 67, 0.3), 0px 1px 3px 1px rgba(60, 64, 67, 0.15);\n",
              "      fill: #174EA6;\n",
              "    }\n",
              "\n",
              "    [theme=dark] .colab-df-convert {\n",
              "      background-color: #3B4455;\n",
              "      fill: #D2E3FC;\n",
              "    }\n",
              "\n",
              "    [theme=dark] .colab-df-convert:hover {\n",
              "      background-color: #434B5C;\n",
              "      box-shadow: 0px 1px 3px 1px rgba(0, 0, 0, 0.15);\n",
              "      filter: drop-shadow(0px 1px 2px rgba(0, 0, 0, 0.3));\n",
              "      fill: #FFFFFF;\n",
              "    }\n",
              "  </style>\n",
              "\n",
              "      <script>\n",
              "        const buttonEl =\n",
              "          document.querySelector('#df-6792280a-4a07-4e30-ad1f-c2cb63ef6005 button.colab-df-convert');\n",
              "        buttonEl.style.display =\n",
              "          google.colab.kernel.accessAllowed ? 'block' : 'none';\n",
              "\n",
              "        async function convertToInteractive(key) {\n",
              "          const element = document.querySelector('#df-6792280a-4a07-4e30-ad1f-c2cb63ef6005');\n",
              "          const dataTable =\n",
              "            await google.colab.kernel.invokeFunction('convertToInteractive',\n",
              "                                                     [key], {});\n",
              "          if (!dataTable) return;\n",
              "\n",
              "          const docLinkHtml = 'Like what you see? Visit the ' +\n",
              "            '<a target=\"_blank\" href=https://colab.research.google.com/notebooks/data_table.ipynb>data table notebook</a>'\n",
              "            + ' to learn more about interactive tables.';\n",
              "          element.innerHTML = '';\n",
              "          dataTable['output_type'] = 'display_data';\n",
              "          await google.colab.output.renderOutput(dataTable, element);\n",
              "          const docLink = document.createElement('div');\n",
              "          docLink.innerHTML = docLinkHtml;\n",
              "          element.appendChild(docLink);\n",
              "        }\n",
              "      </script>\n",
              "    </div>\n",
              "  </div>\n",
              "  "
            ]
          },
          "metadata": {},
          "execution_count": 5
        }
      ]
    },
    {
      "cell_type": "code",
      "source": [
        "data.duplicated().sum()"
      ],
      "metadata": {
        "id": "bHqzttBNGwaT",
        "colab": {
          "base_uri": "https://localhost:8080/"
        },
        "outputId": "117c0a45-db2c-41ff-eb37-02a6677a471e"
      },
      "execution_count": null,
      "outputs": [
        {
          "output_type": "execute_result",
          "data": {
            "text/plain": [
              "0"
            ]
          },
          "metadata": {},
          "execution_count": 6
        }
      ]
    },
    {
      "cell_type": "code",
      "source": [
        "import pandas as pd\n",
        "import matplotlib.pyplot as plt\n",
        "\n",
        "plt.boxplot(data['Lolos'])\n",
        "plt.title(\"Lolos\")\n",
        "plt.show()"
      ],
      "metadata": {
        "id": "d2-8lWY_3fj1",
        "colab": {
          "base_uri": "https://localhost:8080/",
          "height": 452
        },
        "outputId": "73bd7145-b422-44d0-d337-5dfd7dbc32bd"
      },
      "execution_count": null,
      "outputs": [
        {
          "output_type": "display_data",
          "data": {
            "text/plain": [
              "<Figure size 640x480 with 1 Axes>"
            ],
            "image/png": "[encoded data removed]"
          },
          "metadata": {}
        }
      ]
    },
    {
      "cell_type": "code",
      "source": [
        "#memeriksa outlier\n",
        "plt.figure(figsize=(12,6))\n",
        "data.boxplot()\n",
        "plt.xticks(rotation=45)\n",
        "plt.show()"
      ],
      "metadata": {
        "id": "JSn4cBn8Jz7L",
        "colab": {
          "base_uri": "https://localhost:8080/",
          "height": 623
        },
        "outputId": "091315b2-7081-4a7b-f191-99e8d6d96211"
      },
      "execution_count": null,
      "outputs": [
        {
          "output_type": "display_data",
          "data": {
            "text/plain": [
              "<Figure size 1200x600 with 1 Axes>"
            ],
            "image/png": "[encoded data removed]"
          },
          "metadata": {}
        }
      ]
    },
    {
      "cell_type": "code",
      "source": [
        "data['Lolos'].value_counts()"
      ],
      "metadata": {
        "id": "-clamreAWS5O",
        "colab": {
          "base_uri": "https://localhost:8080/"
        },
        "outputId": "70284213-255a-4b7d-d71f-9ea0f2556b47"
      },
      "execution_count": null,
      "outputs": [
        {
          "output_type": "execute_result",
          "data": {
            "text/plain": [
              "1    145\n",
              "0    108\n",
              "Name: Lolos, dtype: int64"
            ]
          },
          "metadata": {},
          "execution_count": 9
        }
      ]
    },
    {
      "cell_type": "code",
      "source": [
        "len(data['Program'].unique())"
      ],
      "metadata": {
        "id": "piPzBwSy7MJ1",
        "colab": {
          "base_uri": "https://localhost:8080/"
        },
        "outputId": "3c600319-0dcf-4f0b-89b0-e4551590f87f"
      },
      "execution_count": null,
      "outputs": [
        {
          "output_type": "execute_result",
          "data": {
            "text/plain": [
              "2"
            ]
          },
          "metadata": {},
          "execution_count": 10
        }
      ]
    },
    {
      "cell_type": "code",
      "source": [
        "len(data['CV'].unique())"
      ],
      "metadata": {
        "id": "HR1DvolUFnI3",
        "colab": {
          "base_uri": "https://localhost:8080/"
        },
        "outputId": "34cdf4d6-18ce-43c2-eca0-bb89acd9291b"
      },
      "execution_count": null,
      "outputs": [
        {
          "output_type": "execute_result",
          "data": {
            "text/plain": [
              "2"
            ]
          },
          "metadata": {},
          "execution_count": 11
        }
      ]
    },
    {
      "cell_type": "code",
      "source": [
        "len(data['Sertifikat Kompetensi'].unique())"
      ],
      "metadata": {
        "id": "riSxk8WFFrlf",
        "colab": {
          "base_uri": "https://localhost:8080/"
        },
        "outputId": "c82a2deb-3e35-4966-a7d3-b5488204757e"
      },
      "execution_count": null,
      "outputs": [
        {
          "output_type": "execute_result",
          "data": {
            "text/plain": [
              "3"
            ]
          },
          "metadata": {},
          "execution_count": 12
        }
      ]
    },
    {
      "cell_type": "code",
      "source": [
        "len(data['Portofolio'].unique())"
      ],
      "metadata": {
        "id": "sEEI1jhCGPT9",
        "colab": {
          "base_uri": "https://localhost:8080/"
        },
        "outputId": "ae55991d-5355-4c94-b064-f25029d7c4cd"
      },
      "execution_count": null,
      "outputs": [
        {
          "output_type": "execute_result",
          "data": {
            "text/plain": [
              "2"
            ]
          },
          "metadata": {},
          "execution_count": 13
        }
      ]
    },
    {
      "cell_type": "code",
      "source": [
        "len(data['Waktu Daftar'].unique())"
      ],
      "metadata": {
        "id": "HLx1mnXzGUsv",
        "colab": {
          "base_uri": "https://localhost:8080/"
        },
        "outputId": "3c61e1ac-59cd-40af-d4c3-cf13f208c383"
      },
      "execution_count": null,
      "outputs": [
        {
          "output_type": "execute_result",
          "data": {
            "text/plain": [
              "3"
            ]
          },
          "metadata": {},
          "execution_count": 14
        }
      ]
    },
    {
      "cell_type": "code",
      "source": [
        "len(data['Selinear dg jurusan'].unique())"
      ],
      "metadata": {
        "id": "1pYSbe3jGZs9",
        "colab": {
          "base_uri": "https://localhost:8080/"
        },
        "outputId": "89467f93-dbe7-4571-9348-e6dfb1fd0551"
      },
      "execution_count": null,
      "outputs": [
        {
          "output_type": "execute_result",
          "data": {
            "text/plain": [
              "2"
            ]
          },
          "metadata": {},
          "execution_count": 15
        }
      ]
    },
    {
      "cell_type": "code",
      "source": [
        "len(data['Test Teknikal'].unique())"
      ],
      "metadata": {
        "id": "Rhw7LCfNGfFP",
        "colab": {
          "base_uri": "https://localhost:8080/"
        },
        "outputId": "beeb29a5-724f-4191-e4a7-7c6c83f45255"
      },
      "execution_count": null,
      "outputs": [
        {
          "output_type": "execute_result",
          "data": {
            "text/plain": [
              "3"
            ]
          },
          "metadata": {},
          "execution_count": 16
        }
      ]
    },
    {
      "cell_type": "code",
      "source": [
        "len(data['Wawancara'].unique())"
      ],
      "metadata": {
        "id": "NUIdXX7BGfn8",
        "colab": {
          "base_uri": "https://localhost:8080/"
        },
        "outputId": "54fece06-a8d2-4c86-abe5-fb6c282059d0"
      },
      "execution_count": null,
      "outputs": [
        {
          "output_type": "execute_result",
          "data": {
            "text/plain": [
              "3"
            ]
          },
          "metadata": {},
          "execution_count": 17
        }
      ]
    },
    {
      "cell_type": "code",
      "source": [
        "data.head()"
      ],
      "metadata": {
        "id": "o8MsKeITZtZg",
        "colab": {
          "base_uri": "https://localhost:8080/",
          "height": 392
        },
        "outputId": "d661375f-1645-4ff1-8414-8304d1886c46"
      },
      "execution_count": null,
      "outputs": [
        {
          "output_type": "execute_result",
          "data": {
            "text/plain": [
              "      Program Studi  Percobaan Mendaftar  Batch           Program  Semester  \\\n",
              "0       Informatika                    1      3            Magang         7   \n",
              "1       Informatika                    1      2  Studi Independen         5   \n",
              "2       Informatika                    2      3            Magang         7   \n",
              "3  Sistem Informasi                    2      2  Studi Independen         6   \n",
              "4       Informatika                    3      1            Magang         5   \n",
              "\n",
              "  Respon Mitra       CV   IPK Sertifikat Kompetensi Portofolio Waktu Daftar  \\\n",
              "0           Ya      ATS  3.78    Tidak mencantumkan      Tidak         Awal   \n",
              "1           Ya      ATS  3.60                    Ya         Ya         Awal   \n",
              "2        Tidak  Kreatif  3.94                    Ya         Ya         Awal   \n",
              "3        Tidak  Kreatif  3.23                    Ya         Ya        Akhir   \n",
              "4        Tidak  Kreatif  3.85    Tidak mencantumkan         Ya        Akhir   \n",
              "\n",
              "  Selinear dg jurusan  Jumlah Mitra Test Teknikal    Wawancara  Lolos  \n",
              "0               Tidak            30         Lolos        Lolos      1  \n",
              "1                  Ya             5         Lolos    Tidak Ada      1  \n",
              "2                  Ya             3         Lolos  Tidak Lolos      0  \n",
              "3                  Ya             3   Tidak Lolos    Tidak Ada      0  \n",
              "4                  Ya             3   Tidak Lolos    Tidak Ada      0  "
            ],
            "text/html": [
              "\n",
              "  <div id=\"df-9a32eb07-7be1-47eb-8403-712a88558ee1\">\n",
              "    <div class=\"colab-df-container\">\n",
              "      <div>\n",
              "<style scoped>\n",
              "    .dataframe tbody tr th:only-of-type {\n",
              "        vertical-align: middle;\n",
              "    }\n",
              "\n",
              "    .dataframe tbody tr th {\n",
              "        vertical-align: top;\n",
              "    }\n",
              "\n",
              "    .dataframe thead th {\n",
              "        text-align: right;\n",
              "    }\n",
              "</style>\n",
              "<table border=\"1\" class=\"dataframe\">\n",
              "  <thead>\n",
              "    <tr style=\"text-align: right;\">\n",
              "      <th></th>\n",
              "      <th>Program Studi</th>\n",
              "      <th>Percobaan Mendaftar</th>\n",
              "      <th>Batch</th>\n",
              "      <th>Program</th>\n",
              "      <th>Semester</th>\n",
              "      <th>Respon Mitra</th>\n",
              "      <th>CV</th>\n",
              "      <th>IPK</th>\n",
              "      <th>Sertifikat Kompetensi</th>\n",
              "      <th>Portofolio</th>\n",
              "      <th>Waktu Daftar</th>\n",
              "      <th>Selinear dg jurusan</th>\n",
              "      <th>Jumlah Mitra</th>\n",
              "      <th>Test Teknikal</th>\n",
              "      <th>Wawancara</th>\n",
              "      <th>Lolos</th>\n",
              "    </tr>\n",
              "  </thead>\n",
              "  <tbody>\n",
              "    <tr>\n",
              "      <th>0</th>\n",
              "      <td>Informatika</td>\n",
              "      <td>1</td>\n",
              "      <td>3</td>\n",
              "      <td>Magang</td>\n",
              "      <td>7</td>\n",
              "      <td>Ya</td>\n",
              "      <td>ATS</td>\n",
              "      <td>3.78</td>\n",
              "      <td>Tidak mencantumkan</td>\n",
              "      <td>Tidak</td>\n",
              "      <td>Awal</td>\n",
              "      <td>Tidak</td>\n",
              "      <td>30</td>\n",
              "      <td>Lolos</td>\n",
              "      <td>Lolos</td>\n",
              "      <td>1</td>\n",
              "    </tr>\n",
              "    <tr>\n",
              "      <th>1</th>\n",
              "      <td>Informatika</td>\n",
              "      <td>1</td>\n",
              "      <td>2</td>\n",
              "      <td>Studi Independen</td>\n",
              "      <td>5</td>\n",
              "      <td>Ya</td>\n",
              "      <td>ATS</td>\n",
              "      <td>3.60</td>\n",
              "      <td>Ya</td>\n",
              "      <td>Ya</td>\n",
              "      <td>Awal</td>\n",
              "      <td>Ya</td>\n",
              "      <td>5</td>\n",
              "      <td>Lolos</td>\n",
              "      <td>Tidak Ada</td>\n",
              "      <td>1</td>\n",
              "    </tr>\n",
              "    <tr>\n",
              "      <th>2</th>\n",
              "      <td>Informatika</td>\n",
              "      <td>2</td>\n",
              "      <td>3</td>\n",
              "      <td>Magang</td>\n",
              "      <td>7</td>\n",
              "      <td>Tidak</td>\n",
              "      <td>Kreatif</td>\n",
              "      <td>3.94</td>\n",
              "      <td>Ya</td>\n",
              "      <td>Ya</td>\n",
              "      <td>Awal</td>\n",
              "      <td>Ya</td>\n",
              "      <td>3</td>\n",
              "      <td>Lolos</td>\n",
              "      <td>Tidak Lolos</td>\n",
              "      <td>0</td>\n",
              "    </tr>\n",
              "    <tr>\n",
              "      <th>3</th>\n",
              "      <td>Sistem Informasi</td>\n",
              "      <td>2</td>\n",
              "      <td>2</td>\n",
              "      <td>Studi Independen</td>\n",
              "      <td>6</td>\n",
              "      <td>Tidak</td>\n",
              "      <td>Kreatif</td>\n",
              "      <td>3.23</td>\n",
              "      <td>Ya</td>\n",
              "      <td>Ya</td>\n",
              "      <td>Akhir</td>\n",
              "      <td>Ya</td>\n",
              "      <td>3</td>\n",
              "      <td>Tidak Lolos</td>\n",
              "      <td>Tidak Ada</td>\n",
              "      <td>0</td>\n",
              "    </tr>\n",
              "    <tr>\n",
              "      <th>4</th>\n",
              "      <td>Informatika</td>\n",
              "      <td>3</td>\n",
              "      <td>1</td>\n",
              "      <td>Magang</td>\n",
              "      <td>5</td>\n",
              "      <td>Tidak</td>\n",
              "      <td>Kreatif</td>\n",
              "      <td>3.85</td>\n",
              "      <td>Tidak mencantumkan</td>\n",
              "      <td>Ya</td>\n",
              "      <td>Akhir</td>\n",
              "      <td>Ya</td>\n",
              "      <td>3</td>\n",
              "      <td>Tidak Lolos</td>\n",
              "      <td>Tidak Ada</td>\n",
              "      <td>0</td>\n",
              "    </tr>\n",
              "  </tbody>\n",
              "</table>\n",
              "</div>\n",
              "      <button class=\"colab-df-convert\" onclick=\"convertToInteractive('df-9a32eb07-7be1-47eb-8403-712a88558ee1')\"\n",
              "              title=\"Convert this dataframe to an interactive table.\"\n",
              "              style=\"display:none;\">\n",
              "        \n",
              "  <svg xmlns=\"http://www.w3.org/2000/svg\" height=\"24px\"viewBox=\"0 0 24 24\"\n",
              "       width=\"24px\">\n",
              "    <path d=\"M0 0h24v24H0V0z\" fill=\"none\"/>\n",
              "    <path d=\"M18.56 5.44l.94 2.06.94-2.06 2.06-.94-2.06-.94-.94-2.06-.94 2.06-2.06.94zm-11 1L8.5 8.5l.94-2.06 2.06-.94-2.06-.94L8.5 2.5l-.94 2.06-2.06.94zm10 10l.94 2.06.94-2.06 2.06-.94-2.06-.94-.94-2.06-.94 2.06-2.06.94z\"/><path d=\"M17.41 7.96l-1.37-1.37c-.4-.4-.92-.59-1.43-.59-.52 0-1.04.2-1.43.59L10.3 9.45l-7.72 7.72c-.78.78-.78 2.05 0 2.83L4 21.41c.39.39.9.59 1.41.59.51 0 1.02-.2 1.41-.59l7.78-7.78 2.81-2.81c.8-.78.8-2.07 0-2.86zM5.41 20L4 18.59l7.72-7.72 1.47 1.35L5.41 20z\"/>\n",
              "  </svg>\n",
              "      </button>\n",
              "      \n",
              "  <style>\n",
              "    .colab-df-container {\n",
              "      display:flex;\n",
              "      flex-wrap:wrap;\n",
              "      gap: 12px;\n",
              "    }\n",
              "\n",
              "    .colab-df-convert {\n",
              "      background-color: #E8F0FE;\n",
              "      border: none;\n",
              "      border-radius: 50%;\n",
              "      cursor: pointer;\n",
              "      display: none;\n",
              "      fill: #1967D2;\n",
              "      height: 32px;\n",
              "      padding: 0 0 0 0;\n",
              "      width: 32px;\n",
              "    }\n",
              "\n",
              "    .colab-df-convert:hover {\n",
              "      background-color: #E2EBFA;\n",
              "      box-shadow: 0px 1px 2px rgba(60, 64, 67, 0.3), 0px 1px 3px 1px rgba(60, 64, 67, 0.15);\n",
              "      fill: #174EA6;\n",
              "    }\n",
              "\n",
              "    [theme=dark] .colab-df-convert {\n",
              "      background-color: #3B4455;\n",
              "      fill: #D2E3FC;\n",
              "    }\n",
              "\n",
              "    [theme=dark] .colab-df-convert:hover {\n",
              "      background-color: #434B5C;\n",
              "      box-shadow: 0px 1px 3px 1px rgba(0, 0, 0, 0.15);\n",
              "      filter: drop-shadow(0px 1px 2px rgba(0, 0, 0, 0.3));\n",
              "      fill: #FFFFFF;\n",
              "    }\n",
              "  </style>\n",
              "\n",
              "      <script>\n",
              "        const buttonEl =\n",
              "          document.querySelector('#df-9a32eb07-7be1-47eb-8403-712a88558ee1 button.colab-df-convert');\n",
              "        buttonEl.style.display =\n",
              "          google.colab.kernel.accessAllowed ? 'block' : 'none';\n",
              "\n",
              "        async function convertToInteractive(key) {\n",
              "          const element = document.querySelector('#df-9a32eb07-7be1-47eb-8403-712a88558ee1');\n",
              "          const dataTable =\n",
              "            await google.colab.kernel.invokeFunction('convertToInteractive',\n",
              "                                                     [key], {});\n",
              "          if (!dataTable) return;\n",
              "\n",
              "          const docLinkHtml = 'Like what you see? Visit the ' +\n",
              "            '<a target=\"_blank\" href=https://colab.research.google.com/notebooks/data_table.ipynb>data table notebook</a>'\n",
              "            + ' to learn more about interactive tables.';\n",
              "          element.innerHTML = '';\n",
              "          dataTable['output_type'] = 'display_data';\n",
              "          await google.colab.output.renderOutput(dataTable, element);\n",
              "          const docLink = document.createElement('div');\n",
              "          docLink.innerHTML = docLinkHtml;\n",
              "          element.appendChild(docLink);\n",
              "        }\n",
              "      </script>\n",
              "    </div>\n",
              "  </div>\n",
              "  "
            ]
          },
          "metadata": {},
          "execution_count": 18
        }
      ]
    },
    {
      "cell_type": "code",
      "source": [
        "import seaborn as sns\n",
        "\n",
        "# Menghitung jumlah sampel pada setiap kelas\n",
        "counts = data['Lolos'].value_counts()\n",
        "\n",
        "# Menampilkan grafik bar untuk distribusi kelas\n",
        "plt.figure(figsize=(8, 6))\n",
        "sns.countplot(data=data, x='Lolos')\n",
        "plt.xlabel('Kelas')\n",
        "plt.ylabel('Jumlah Sampel')\n",
        "plt.title('Distribusi Kelas')\n",
        "plt.show()"
      ],
      "metadata": {
        "colab": {
          "base_uri": "https://localhost:8080/",
          "height": 564
        },
        "id": "tzYRKNzpsFoQ",
        "outputId": "28760e0d-abfc-4648-cafd-a13726e35f77"
      },
      "execution_count": null,
      "outputs": [
        {
          "output_type": "display_data",
          "data": {
            "text/plain": [
              "<Figure size 800x600 with 1 Axes>"
            ],
            "image/png": "[encoded data removed]"
          },
          "metadata": {}
        }
      ]
    },
    {
      "cell_type": "code",
      "source": [
        "# Matriks korelasi\n",
        "correlation_matrix = data.corr()\n",
        "\n",
        "# Membuat plot korelasi menggunakan heatmap\n",
        "plt.figure(figsize=(20, 8))\n",
        "sns.heatmap(correlation_matrix, annot=True, cmap=\"coolwarm\")\n",
        "plt.title(\"Korelasi antar Variabel\")\n",
        "plt.show()"
      ],
      "metadata": {
        "colab": {
          "base_uri": "https://localhost:8080/",
          "height": 607
        },
        "id": "32jNUlF5E8Fz",
        "outputId": "5b2f40a4-d52b-434b-e127-8c2c1389b097"
      },
      "execution_count": null,
      "outputs": [
        {
          "output_type": "stream",
          "name": "stderr",
          "text": [
            "<ipython-input-20-e2cf5b04b7bc>:2: FutureWarning: The default value of numeric_only in DataFrame.corr is deprecated. In a future version, it will default to False. Select only valid columns or specify the value of numeric_only to silence this warning.\n",
            "  correlation_matrix = data.corr()\n"
          ]
        },
        {
          "output_type": "display_data",
          "data": {
            "text/plain": [
              "<Figure size 2000x800 with 2 Axes>"
            ],
            "image/png": "[encoded data removed]"
          },
          "metadata": {}
        }
      ]
    },
    {
      "cell_type": "code",
      "source": [
        "# Matriks korelasi\n",
        "correlation_matrix = data.corr()\n",
        "\n",
        "# Tampilkan matriks korelasi\n",
        "print(correlation_matrix)\n",
        "\n",
        "# Heatmap korelasi\n",
        "sns.heatmap(correlation_matrix, annot=True, cmap='RdYlGn')\n",
        "plt.title('Heatmap Korelasi')\n",
        "plt.show()"
      ],
      "metadata": {
        "colab": {
          "base_uri": "https://localhost:8080/",
          "height": 912
        },
        "id": "p27lyDt-Dhwz",
        "outputId": "a6384463-ae58-461e-9893-441ad9d48091"
      },
      "execution_count": null,
      "outputs": [
        {
          "output_type": "stream",
          "name": "stderr",
          "text": [
            "<ipython-input-21-e4592090c52a>:2: FutureWarning: The default value of numeric_only in DataFrame.corr is deprecated. In a future version, it will default to False. Select only valid columns or specify the value of numeric_only to silence this warning.\n",
            "  correlation_matrix = data.corr()\n"
          ]
        },
        {
          "output_type": "stream",
          "name": "stdout",
          "text": [
            "                     Percobaan Mendaftar     Batch  Semester       IPK  \\\n",
            "Percobaan Mendaftar             1.000000 -0.128630  0.173523  0.043162   \n",
            "Batch                          -0.128630  1.000000  0.146835  0.130331   \n",
            "Semester                        0.173523  0.146835  1.000000 -0.042991   \n",
            "IPK                             0.043162  0.130331 -0.042991  1.000000   \n",
            "Jumlah Mitra                    0.008746  0.031295  0.102463  0.051717   \n",
            "Lolos                          -0.004323  0.267581 -0.032764  0.355878   \n",
            "\n",
            "                     Jumlah Mitra     Lolos  \n",
            "Percobaan Mendaftar      0.008746 -0.004323  \n",
            "Batch                    0.031295  0.267581  \n",
            "Semester                 0.102463 -0.032764  \n",
            "IPK                      0.051717  0.355878  \n",
            "Jumlah Mitra             1.000000 -0.000421  \n",
            "Lolos                   -0.000421  1.000000  \n"
          ]
        },
        {
          "output_type": "display_data",
          "data": {
            "text/plain": [
              "<Figure size 640x480 with 2 Axes>"
            ],
            "image/png": "[encoded data removed]"
          },
          "metadata": {}
        }
      ]
    },
    {
      "cell_type": "markdown",
      "source": [
        "# Data Preparation"
      ],
      "metadata": {
        "id": "fy_MRQM_P7NV"
      }
    },
    {
      "cell_type": "code",
      "source": [
        "# Mengubah kolom IPK menjadi bentuk range\n",
        "bins = [0, 1.99, 2.75, 3.00, 3.50, 4.00]\n",
        "labels = ['TL', 'L', 'M', 'SM', 'P']\n",
        "data['IPK'] = pd.cut(data['IPK'], bins=bins, labels=labels) "
      ],
      "metadata": {
        "id": "6wylHZNIHQct"
      },
      "execution_count": null,
      "outputs": []
    },
    {
      "cell_type": "code",
      "source": [
        "data['IPK']"
      ],
      "metadata": {
        "id": "7MeLI-YCHaIu",
        "colab": {
          "base_uri": "https://localhost:8080/"
        },
        "outputId": "e3300bd6-5413-4cfc-fe29-7fb4c4581460"
      },
      "execution_count": null,
      "outputs": [
        {
          "output_type": "execute_result",
          "data": {
            "text/plain": [
              "0       P\n",
              "1       P\n",
              "2       P\n",
              "3      SM\n",
              "4       P\n",
              "       ..\n",
              "248     P\n",
              "249     P\n",
              "250     P\n",
              "251     P\n",
              "252     P\n",
              "Name: IPK, Length: 253, dtype: category\n",
              "Categories (5, object): ['TL' < 'L' < 'M' < 'SM' < 'P']"
            ]
          },
          "metadata": {},
          "execution_count": 23
        }
      ]
    },
    {
      "cell_type": "code",
      "source": [
        "# Mengubah kolom Jumlah menjadi bentuk range\n",
        "bins = [0, 26, 52, 78, 104, 130, 156, 182, 208, 235]\n",
        "labels = ['1', '2', '3', '4', '5', '6', '7', '8', '9']\n",
        "data['Jumlah Mitra'] = pd.cut(data['Jumlah Mitra'], bins=bins, labels=labels) \n",
        "data['Jumlah Mitra']"
      ],
      "metadata": {
        "id": "mM8DfM0B4NE8",
        "colab": {
          "base_uri": "https://localhost:8080/"
        },
        "outputId": "2cdb3531-1df9-4143-a105-d42089fc7a35"
      },
      "execution_count": null,
      "outputs": [
        {
          "output_type": "execute_result",
          "data": {
            "text/plain": [
              "0      2\n",
              "1      1\n",
              "2      1\n",
              "3      1\n",
              "4      1\n",
              "      ..\n",
              "248    2\n",
              "249    1\n",
              "250    1\n",
              "251    1\n",
              "252    1\n",
              "Name: Jumlah Mitra, Length: 253, dtype: category\n",
              "Categories (9, object): ['1' < '2' < '3' < '4' ... '6' < '7' < '8' < '9']"
            ]
          },
          "metadata": {},
          "execution_count": 24
        }
      ]
    },
    {
      "cell_type": "code",
      "source": [
        "data.info()"
      ],
      "metadata": {
        "colab": {
          "base_uri": "https://localhost:8080/"
        },
        "id": "JiwQePNo1d6n",
        "outputId": "7573bdf3-b5e5-44e4-b03c-dd74c3585e7c"
      },
      "execution_count": null,
      "outputs": [
        {
          "output_type": "stream",
          "name": "stdout",
          "text": [
            "<class 'pandas.core.frame.DataFrame'>\n",
            "RangeIndex: 253 entries, 0 to 252\n",
            "Data columns (total 16 columns):\n",
            " #   Column                 Non-Null Count  Dtype   \n",
            "---  ------                 --------------  -----   \n",
            " 0   Program Studi          253 non-null    object  \n",
            " 1   Percobaan Mendaftar    253 non-null    int64   \n",
            " 2   Batch                  253 non-null    int64   \n",
            " 3   Program                253 non-null    object  \n",
            " 4   Semester               253 non-null    int64   \n",
            " 5   Respon Mitra           253 non-null    object  \n",
            " 6   CV                     253 non-null    object  \n",
            " 7   IPK                    253 non-null    category\n",
            " 8   Sertifikat Kompetensi  253 non-null    object  \n",
            " 9   Portofolio             253 non-null    object  \n",
            " 10  Waktu Daftar           253 non-null    object  \n",
            " 11  Selinear dg jurusan    253 non-null    object  \n",
            " 12  Jumlah Mitra           253 non-null    category\n",
            " 13  Test Teknikal          253 non-null    object  \n",
            " 14  Wawancara              253 non-null    object  \n",
            " 15  Lolos                  253 non-null    int64   \n",
            "dtypes: category(2), int64(4), object(10)\n",
            "memory usage: 28.9+ KB\n"
          ]
        }
      ]
    },
    {
      "cell_type": "markdown",
      "source": [
        " Merubah kolom kategorikal menjadi numerik menggunakan Label Encoding\n"
      ],
      "metadata": {
        "id": "R0H7XUTEHmV0"
      }
    },
    {
      "cell_type": "code",
      "source": [
        "from sklearn.preprocessing import LabelEncoder\n",
        "LE = LabelEncoder()\n",
        "data['Program Studi'] = LE.fit_transform(data['Program Studi'])\n",
        "data['Program'] = LE.fit_transform(data['Program'])\n",
        "data['Respon Mitra'] = LE.fit_transform(data['Respon Mitra'])\n",
        "data['CV'] = LE.fit_transform(data['CV'])\n",
        "data['IPK'] = LE.fit_transform(data['IPK'])\n",
        "data['Sertifikat Kompetensi'] = LE.fit_transform(data['Sertifikat Kompetensi'])\n",
        "data['Portofolio'] = LE.fit_transform(data['Portofolio'])\n",
        "data['Waktu Daftar'] = LE.fit_transform(data['Waktu Daftar'])\n",
        "data['Selinear dg jurusan'] = LE.fit_transform(data['Selinear dg jurusan'])\n",
        "data['Jumlah Mitra'] = LE.fit_transform(data['Jumlah Mitra'])\n",
        "data['Test Teknikal'] = LE.fit_transform(data['Test Teknikal'])\n",
        "data['Wawancara'] = LE.fit_transform(data['Wawancara'])\n",
        "\n",
        "data"
      ],
      "metadata": {
        "id": "L45AAJENHgvV",
        "colab": {
          "base_uri": "https://localhost:8080/",
          "height": 503
        },
        "outputId": "63e95efc-5d0d-4dfb-f544-80714948f9a3"
      },
      "execution_count": null,
      "outputs": [
        {
          "output_type": "execute_result",
          "data": {
            "text/plain": [
              "     Program Studi  Percobaan Mendaftar  Batch  Program  Semester  \\\n",
              "0                0                    1      3        0         7   \n",
              "1                0                    1      2        1         5   \n",
              "2                0                    2      3        0         7   \n",
              "3                1                    2      2        1         6   \n",
              "4                0                    3      1        0         5   \n",
              "..             ...                  ...    ...      ...       ...   \n",
              "248              1                    1      3        1         5   \n",
              "249              1                    1      3        1         5   \n",
              "250              1                    1      3        1         5   \n",
              "251              1                    1      3        0         5   \n",
              "252              1                    1      3        1         5   \n",
              "\n",
              "     Respon Mitra  CV  IPK  Sertifikat Kompetensi  Portofolio  Waktu Daftar  \\\n",
              "0               1   0    1                      0           0             1   \n",
              "1               1   0    1                      2           1             1   \n",
              "2               0   1    1                      2           1             1   \n",
              "3               0   1    2                      2           1             0   \n",
              "4               0   1    1                      0           1             0   \n",
              "..            ...  ..  ...                    ...         ...           ...   \n",
              "248             1   0    1                      0           0             1   \n",
              "249             1   0    1                      0           0             1   \n",
              "250             1   0    1                      0           1             0   \n",
              "251             1   1    1                      1           0             0   \n",
              "252             1   0    1                      0           0             1   \n",
              "\n",
              "     Selinear dg jurusan  Jumlah Mitra  Test Teknikal  Wawancara  Lolos  \n",
              "0                      0             1              0          0      1  \n",
              "1                      1             0              0          1      1  \n",
              "2                      1             0              0          2      0  \n",
              "3                      1             0              2          1      0  \n",
              "4                      1             0              2          1      0  \n",
              "..                   ...           ...            ...        ...    ...  \n",
              "248                    1             1              0          1      1  \n",
              "249                    0             0              1          1      1  \n",
              "250                    1             0              0          1      1  \n",
              "251                    1             0              1          1      0  \n",
              "252                    1             0              0          1      1  \n",
              "\n",
              "[253 rows x 16 columns]"
            ],
            "text/html": [
              "\n",
              "  <div id=\"df-53d3e0fa-77ed-4a42-a435-a6e4bb221195\">\n",
              "    <div class=\"colab-df-container\">\n",
              "      <div>\n",
              "<style scoped>\n",
              "    .dataframe tbody tr th:only-of-type {\n",
              "        vertical-align: middle;\n",
              "    }\n",
              "\n",
              "    .dataframe tbody tr th {\n",
              "        vertical-align: top;\n",
              "    }\n",
              "\n",
              "    .dataframe thead th {\n",
              "        text-align: right;\n",
              "    }\n",
              "</style>\n",
              "<table border=\"1\" class=\"dataframe\">\n",
              "  <thead>\n",
              "    <tr style=\"text-align: right;\">\n",
              "      <th></th>\n",
              "      <th>Program Studi</th>\n",
              "      <th>Percobaan Mendaftar</th>\n",
              "      <th>Batch</th>\n",
              "      <th>Program</th>\n",
              "      <th>Semester</th>\n",
              "      <th>Respon Mitra</th>\n",
              "      <th>CV</th>\n",
              "      <th>IPK</th>\n",
              "      <th>Sertifikat Kompetensi</th>\n",
              "      <th>Portofolio</th>\n",
              "      <th>Waktu Daftar</th>\n",
              "      <th>Selinear dg jurusan</th>\n",
              "      <th>Jumlah Mitra</th>\n",
              "      <th>Test Teknikal</th>\n",
              "      <th>Wawancara</th>\n",
              "      <th>Lolos</th>\n",
              "    </tr>\n",
              "  </thead>\n",
              "  <tbody>\n",
              "    <tr>\n",
              "      <th>0</th>\n",
              "      <td>0</td>\n",
              "      <td>1</td>\n",
              "      <td>3</td>\n",
              "      <td>0</td>\n",
              "      <td>7</td>\n",
              "      <td>1</td>\n",
              "      <td>0</td>\n",
              "      <td>1</td>\n",
              "      <td>0</td>\n",
              "      <td>0</td>\n",
              "      <td>1</td>\n",
              "      <td>0</td>\n",
              "      <td>1</td>\n",
              "      <td>0</td>\n",
              "      <td>0</td>\n",
              "      <td>1</td>\n",
              "    </tr>\n",
              "    <tr>\n",
              "      <th>1</th>\n",
              "      <td>0</td>\n",
              "      <td>1</td>\n",
              "      <td>2</td>\n",
              "      <td>1</td>\n",
              "      <td>5</td>\n",
              "      <td>1</td>\n",
              "      <td>0</td>\n",
              "      <td>1</td>\n",
              "      <td>2</td>\n",
              "      <td>1</td>\n",
              "      <td>1</td>\n",
              "      <td>1</td>\n",
              "      <td>0</td>\n",
              "      <td>0</td>\n",
              "      <td>1</td>\n",
              "      <td>1</td>\n",
              "    </tr>\n",
              "    <tr>\n",
              "      <th>2</th>\n",
              "      <td>0</td>\n",
              "      <td>2</td>\n",
              "      <td>3</td>\n",
              "      <td>0</td>\n",
              "      <td>7</td>\n",
              "      <td>0</td>\n",
              "      <td>1</td>\n",
              "      <td>1</td>\n",
              "      <td>2</td>\n",
              "      <td>1</td>\n",
              "      <td>1</td>\n",
              "      <td>1</td>\n",
              "      <td>0</td>\n",
              "      <td>0</td>\n",
              "      <td>2</td>\n",
              "      <td>0</td>\n",
              "    </tr>\n",
              "    <tr>\n",
              "      <th>3</th>\n",
              "      <td>1</td>\n",
              "      <td>2</td>\n",
              "      <td>2</td>\n",
              "      <td>1</td>\n",
              "      <td>6</td>\n",
              "      <td>0</td>\n",
              "      <td>1</td>\n",
              "      <td>2</td>\n",
              "      <td>2</td>\n",
              "      <td>1</td>\n",
              "      <td>0</td>\n",
              "      <td>1</td>\n",
              "      <td>0</td>\n",
              "      <td>2</td>\n",
              "      <td>1</td>\n",
              "      <td>0</td>\n",
              "    </tr>\n",
              "    <tr>\n",
              "      <th>4</th>\n",
              "      <td>0</td>\n",
              "      <td>3</td>\n",
              "      <td>1</td>\n",
              "      <td>0</td>\n",
              "      <td>5</td>\n",
              "      <td>0</td>\n",
              "      <td>1</td>\n",
              "      <td>1</td>\n",
              "      <td>0</td>\n",
              "      <td>1</td>\n",
              "      <td>0</td>\n",
              "      <td>1</td>\n",
              "      <td>0</td>\n",
              "      <td>2</td>\n",
              "      <td>1</td>\n",
              "      <td>0</td>\n",
              "    </tr>\n",
              "    <tr>\n",
              "      <th>...</th>\n",
              "      <td>...</td>\n",
              "      <td>...</td>\n",
              "      <td>...</td>\n",
              "      <td>...</td>\n",
              "      <td>...</td>\n",
              "      <td>...</td>\n",
              "      <td>...</td>\n",
              "      <td>...</td>\n",
              "      <td>...</td>\n",
              "      <td>...</td>\n",
              "      <td>...</td>\n",
              "      <td>...</td>\n",
              "      <td>...</td>\n",
              "      <td>...</td>\n",
              "      <td>...</td>\n",
              "      <td>...</td>\n",
              "    </tr>\n",
              "    <tr>\n",
              "      <th>248</th>\n",
              "      <td>1</td>\n",
              "      <td>1</td>\n",
              "      <td>3</td>\n",
              "      <td>1</td>\n",
              "      <td>5</td>\n",
              "      <td>1</td>\n",
              "      <td>0</td>\n",
              "      <td>1</td>\n",
              "      <td>0</td>\n",
              "      <td>0</td>\n",
              "      <td>1</td>\n",
              "      <td>1</td>\n",
              "      <td>1</td>\n",
              "      <td>0</td>\n",
              "      <td>1</td>\n",
              "      <td>1</td>\n",
              "    </tr>\n",
              "    <tr>\n",
              "      <th>249</th>\n",
              "      <td>1</td>\n",
              "      <td>1</td>\n",
              "      <td>3</td>\n",
              "      <td>1</td>\n",
              "      <td>5</td>\n",
              "      <td>1</td>\n",
              "      <td>0</td>\n",
              "      <td>1</td>\n",
              "      <td>0</td>\n",
              "      <td>0</td>\n",
              "      <td>1</td>\n",
              "      <td>0</td>\n",
              "      <td>0</td>\n",
              "      <td>1</td>\n",
              "      <td>1</td>\n",
              "      <td>1</td>\n",
              "    </tr>\n",
              "    <tr>\n",
              "      <th>250</th>\n",
              "      <td>1</td>\n",
              "      <td>1</td>\n",
              "      <td>3</td>\n",
              "      <td>1</td>\n",
              "      <td>5</td>\n",
              "      <td>1</td>\n",
              "      <td>0</td>\n",
              "      <td>1</td>\n",
              "      <td>0</td>\n",
              "      <td>1</td>\n",
              "      <td>0</td>\n",
              "      <td>1</td>\n",
              "      <td>0</td>\n",
              "      <td>0</td>\n",
              "      <td>1</td>\n",
              "      <td>1</td>\n",
              "    </tr>\n",
              "    <tr>\n",
              "      <th>251</th>\n",
              "      <td>1</td>\n",
              "      <td>1</td>\n",
              "      <td>3</td>\n",
              "      <td>0</td>\n",
              "      <td>5</td>\n",
              "      <td>1</td>\n",
              "      <td>1</td>\n",
              "      <td>1</td>\n",
              "      <td>1</td>\n",
              "      <td>0</td>\n",
              "      <td>0</td>\n",
              "      <td>1</td>\n",
              "      <td>0</td>\n",
              "      <td>1</td>\n",
              "      <td>1</td>\n",
              "      <td>0</td>\n",
              "    </tr>\n",
              "    <tr>\n",
              "      <th>252</th>\n",
              "      <td>1</td>\n",
              "      <td>1</td>\n",
              "      <td>3</td>\n",
              "      <td>1</td>\n",
              "      <td>5</td>\n",
              "      <td>1</td>\n",
              "      <td>0</td>\n",
              "      <td>1</td>\n",
              "      <td>0</td>\n",
              "      <td>0</td>\n",
              "      <td>1</td>\n",
              "      <td>1</td>\n",
              "      <td>0</td>\n",
              "      <td>0</td>\n",
              "      <td>1</td>\n",
              "      <td>1</td>\n",
              "    </tr>\n",
              "  </tbody>\n",
              "</table>\n",
              "<p>253 rows × 16 columns</p>\n",
              "</div>\n",
              "      <button class=\"colab-df-convert\" onclick=\"convertToInteractive('df-53d3e0fa-77ed-4a42-a435-a6e4bb221195')\"\n",
              "              title=\"Convert this dataframe to an interactive table.\"\n",
              "              style=\"display:none;\">\n",
              "        \n",
              "  <svg xmlns=\"http://www.w3.org/2000/svg\" height=\"24px\"viewBox=\"0 0 24 24\"\n",
              "       width=\"24px\">\n",
              "    <path d=\"M0 0h24v24H0V0z\" fill=\"none\"/>\n",
              "    <path d=\"M18.56 5.44l.94 2.06.94-2.06 2.06-.94-2.06-.94-.94-2.06-.94 2.06-2.06.94zm-11 1L8.5 8.5l.94-2.06 2.06-.94-2.06-.94L8.5 2.5l-.94 2.06-2.06.94zm10 10l.94 2.06.94-2.06 2.06-.94-2.06-.94-.94-2.06-.94 2.06-2.06.94z\"/><path d=\"M17.41 7.96l-1.37-1.37c-.4-.4-.92-.59-1.43-.59-.52 0-1.04.2-1.43.59L10.3 9.45l-7.72 7.72c-.78.78-.78 2.05 0 2.83L4 21.41c.39.39.9.59 1.41.59.51 0 1.02-.2 1.41-.59l7.78-7.78 2.81-2.81c.8-.78.8-2.07 0-2.86zM5.41 20L4 18.59l7.72-7.72 1.47 1.35L5.41 20z\"/>\n",
              "  </svg>\n",
              "      </button>\n",
              "      \n",
              "  <style>\n",
              "    .colab-df-container {\n",
              "      display:flex;\n",
              "      flex-wrap:wrap;\n",
              "      gap: 12px;\n",
              "    }\n",
              "\n",
              "    .colab-df-convert {\n",
              "      background-color: #E8F0FE;\n",
              "      border: none;\n",
              "      border-radius: 50%;\n",
              "      cursor: pointer;\n",
              "      display: none;\n",
              "      fill: #1967D2;\n",
              "      height: 32px;\n",
              "      padding: 0 0 0 0;\n",
              "      width: 32px;\n",
              "    }\n",
              "\n",
              "    .colab-df-convert:hover {\n",
              "      background-color: #E2EBFA;\n",
              "      box-shadow: 0px 1px 2px rgba(60, 64, 67, 0.3), 0px 1px 3px 1px rgba(60, 64, 67, 0.15);\n",
              "      fill: #174EA6;\n",
              "    }\n",
              "\n",
              "    [theme=dark] .colab-df-convert {\n",
              "      background-color: #3B4455;\n",
              "      fill: #D2E3FC;\n",
              "    }\n",
              "\n",
              "    [theme=dark] .colab-df-convert:hover {\n",
              "      background-color: #434B5C;\n",
              "      box-shadow: 0px 1px 3px 1px rgba(0, 0, 0, 0.15);\n",
              "      filter: drop-shadow(0px 1px 2px rgba(0, 0, 0, 0.3));\n",
              "      fill: #FFFFFF;\n",
              "    }\n",
              "  </style>\n",
              "\n",
              "      <script>\n",
              "        const buttonEl =\n",
              "          document.querySelector('#df-53d3e0fa-77ed-4a42-a435-a6e4bb221195 button.colab-df-convert');\n",
              "        buttonEl.style.display =\n",
              "          google.colab.kernel.accessAllowed ? 'block' : 'none';\n",
              "\n",
              "        async function convertToInteractive(key) {\n",
              "          const element = document.querySelector('#df-53d3e0fa-77ed-4a42-a435-a6e4bb221195');\n",
              "          const dataTable =\n",
              "            await google.colab.kernel.invokeFunction('convertToInteractive',\n",
              "                                                     [key], {});\n",
              "          if (!dataTable) return;\n",
              "\n",
              "          const docLinkHtml = 'Like what you see? Visit the ' +\n",
              "            '<a target=\"_blank\" href=https://colab.research.google.com/notebooks/data_table.ipynb>data table notebook</a>'\n",
              "            + ' to learn more about interactive tables.';\n",
              "          element.innerHTML = '';\n",
              "          dataTable['output_type'] = 'display_data';\n",
              "          await google.colab.output.renderOutput(dataTable, element);\n",
              "          const docLink = document.createElement('div');\n",
              "          docLink.innerHTML = docLinkHtml;\n",
              "          element.appendChild(docLink);\n",
              "        }\n",
              "      </script>\n",
              "    </div>\n",
              "  </div>\n",
              "  "
            ]
          },
          "metadata": {},
          "execution_count": 26
        }
      ]
    },
    {
      "cell_type": "code",
      "source": [
        "data.describe()"
      ],
      "metadata": {
        "colab": {
          "base_uri": "https://localhost:8080/",
          "height": 399
        },
        "id": "fEWWS3b9Nqqw",
        "outputId": "b2721791-ac82-4945-82d4-822bb320c905"
      },
      "execution_count": null,
      "outputs": [
        {
          "output_type": "execute_result",
          "data": {
            "text/plain": [
              "       Program Studi  Percobaan Mendaftar       Batch     Program    Semester  \\\n",
              "count     253.000000           253.000000  253.000000  253.000000  253.000000   \n",
              "mean        0.177866             1.691700    2.031621    0.557312    6.229249   \n",
              "std         0.383158             0.548998    0.760501    0.497689    1.036446   \n",
              "min         0.000000             1.000000    1.000000    0.000000    5.000000   \n",
              "25%         0.000000             1.000000    1.000000    0.000000    5.000000   \n",
              "50%         0.000000             2.000000    2.000000    1.000000    6.000000   \n",
              "75%         0.000000             2.000000    3.000000    1.000000    7.000000   \n",
              "max         1.000000             3.000000    3.000000    1.000000    8.000000   \n",
              "\n",
              "       Respon Mitra          CV         IPK  Sertifikat Kompetensi  \\\n",
              "count    253.000000  253.000000  253.000000             253.000000   \n",
              "mean       0.806324    0.387352    1.166008               1.118577   \n",
              "std        0.395961    0.488111    0.383321               0.943740   \n",
              "min        0.000000    0.000000    0.000000               0.000000   \n",
              "25%        1.000000    0.000000    1.000000               0.000000   \n",
              "50%        1.000000    0.000000    1.000000               2.000000   \n",
              "75%        1.000000    1.000000    1.000000               2.000000   \n",
              "max        1.000000    1.000000    2.000000               2.000000   \n",
              "\n",
              "       Portofolio  Waktu Daftar  Selinear dg jurusan  Jumlah Mitra  \\\n",
              "count  253.000000    253.000000           253.000000    253.000000   \n",
              "mean     0.509881      1.067194             0.905138      0.169960   \n",
              "std      0.500893      0.765988             0.293605      0.555248   \n",
              "min      0.000000      0.000000             0.000000      0.000000   \n",
              "25%      0.000000      0.000000             1.000000      0.000000   \n",
              "50%      1.000000      1.000000             1.000000      0.000000   \n",
              "75%      1.000000      2.000000             1.000000      0.000000   \n",
              "max      1.000000      2.000000             1.000000      5.000000   \n",
              "\n",
              "       Test Teknikal   Wawancara       Lolos  \n",
              "count     253.000000  253.000000  253.000000  \n",
              "mean        0.616601    0.972332    0.573123  \n",
              "std         0.739504    0.657093    0.495605  \n",
              "min         0.000000    0.000000    0.000000  \n",
              "25%         0.000000    1.000000    0.000000  \n",
              "50%         0.000000    1.000000    1.000000  \n",
              "75%         1.000000    1.000000    1.000000  \n",
              "max         2.000000    2.000000    1.000000  "
            ],
            "text/html": [
              "\n",
              "  <div id=\"df-2300775a-32f3-49bd-b537-579e89099c19\">\n",
              "    <div class=\"colab-df-container\">\n",
              "      <div>\n",
              "<style scoped>\n",
              "    .dataframe tbody tr th:only-of-type {\n",
              "        vertical-align: middle;\n",
              "    }\n",
              "\n",
              "    .dataframe tbody tr th {\n",
              "        vertical-align: top;\n",
              "    }\n",
              "\n",
              "    .dataframe thead th {\n",
              "        text-align: right;\n",
              "    }\n",
              "</style>\n",
              "<table border=\"1\" class=\"dataframe\">\n",
              "  <thead>\n",
              "    <tr style=\"text-align: right;\">\n",
              "      <th></th>\n",
              "      <th>Program Studi</th>\n",
              "      <th>Percobaan Mendaftar</th>\n",
              "      <th>Batch</th>\n",
              "      <th>Program</th>\n",
              "      <th>Semester</th>\n",
              "      <th>Respon Mitra</th>\n",
              "      <th>CV</th>\n",
              "      <th>IPK</th>\n",
              "      <th>Sertifikat Kompetensi</th>\n",
              "      <th>Portofolio</th>\n",
              "      <th>Waktu Daftar</th>\n",
              "      <th>Selinear dg jurusan</th>\n",
              "      <th>Jumlah Mitra</th>\n",
              "      <th>Test Teknikal</th>\n",
              "      <th>Wawancara</th>\n",
              "      <th>Lolos</th>\n",
              "    </tr>\n",
              "  </thead>\n",
              "  <tbody>\n",
              "    <tr>\n",
              "      <th>count</th>\n",
              "      <td>253.000000</td>\n",
              "      <td>253.000000</td>\n",
              "      <td>253.000000</td>\n",
              "      <td>253.000000</td>\n",
              "      <td>253.000000</td>\n",
              "      <td>253.000000</td>\n",
              "      <td>253.000000</td>\n",
              "      <td>253.000000</td>\n",
              "      <td>253.000000</td>\n",
              "      <td>253.000000</td>\n",
              "      <td>253.000000</td>\n",
              "      <td>253.000000</td>\n",
              "      <td>253.000000</td>\n",
              "      <td>253.000000</td>\n",
              "      <td>253.000000</td>\n",
              "      <td>253.000000</td>\n",
              "    </tr>\n",
              "    <tr>\n",
              "      <th>mean</th>\n",
              "      <td>0.177866</td>\n",
              "      <td>1.691700</td>\n",
              "      <td>2.031621</td>\n",
              "      <td>0.557312</td>\n",
              "      <td>6.229249</td>\n",
              "      <td>0.806324</td>\n",
              "      <td>0.387352</td>\n",
              "      <td>1.166008</td>\n",
              "      <td>1.118577</td>\n",
              "      <td>0.509881</td>\n",
              "      <td>1.067194</td>\n",
              "      <td>0.905138</td>\n",
              "      <td>0.169960</td>\n",
              "      <td>0.616601</td>\n",
              "      <td>0.972332</td>\n",
              "      <td>0.573123</td>\n",
              "    </tr>\n",
              "    <tr>\n",
              "      <th>std</th>\n",
              "      <td>0.383158</td>\n",
              "      <td>0.548998</td>\n",
              "      <td>0.760501</td>\n",
              "      <td>0.497689</td>\n",
              "      <td>1.036446</td>\n",
              "      <td>0.395961</td>\n",
              "      <td>0.488111</td>\n",
              "      <td>0.383321</td>\n",
              "      <td>0.943740</td>\n",
              "      <td>0.500893</td>\n",
              "      <td>0.765988</td>\n",
              "      <td>0.293605</td>\n",
              "      <td>0.555248</td>\n",
              "      <td>0.739504</td>\n",
              "      <td>0.657093</td>\n",
              "      <td>0.495605</td>\n",
              "    </tr>\n",
              "    <tr>\n",
              "      <th>min</th>\n",
              "      <td>0.000000</td>\n",
              "      <td>1.000000</td>\n",
              "      <td>1.000000</td>\n",
              "      <td>0.000000</td>\n",
              "      <td>5.000000</td>\n",
              "      <td>0.000000</td>\n",
              "      <td>0.000000</td>\n",
              "      <td>0.000000</td>\n",
              "      <td>0.000000</td>\n",
              "      <td>0.000000</td>\n",
              "      <td>0.000000</td>\n",
              "      <td>0.000000</td>\n",
              "      <td>0.000000</td>\n",
              "      <td>0.000000</td>\n",
              "      <td>0.000000</td>\n",
              "      <td>0.000000</td>\n",
              "    </tr>\n",
              "    <tr>\n",
              "      <th>25%</th>\n",
              "      <td>0.000000</td>\n",
              "      <td>1.000000</td>\n",
              "      <td>1.000000</td>\n",
              "      <td>0.000000</td>\n",
              "      <td>5.000000</td>\n",
              "      <td>1.000000</td>\n",
              "      <td>0.000000</td>\n",
              "      <td>1.000000</td>\n",
              "      <td>0.000000</td>\n",
              "      <td>0.000000</td>\n",
              "      <td>0.000000</td>\n",
              "      <td>1.000000</td>\n",
              "      <td>0.000000</td>\n",
              "      <td>0.000000</td>\n",
              "      <td>1.000000</td>\n",
              "      <td>0.000000</td>\n",
              "    </tr>\n",
              "    <tr>\n",
              "      <th>50%</th>\n",
              "      <td>0.000000</td>\n",
              "      <td>2.000000</td>\n",
              "      <td>2.000000</td>\n",
              "      <td>1.000000</td>\n",
              "      <td>6.000000</td>\n",
              "      <td>1.000000</td>\n",
              "      <td>0.000000</td>\n",
              "      <td>1.000000</td>\n",
              "      <td>2.000000</td>\n",
              "      <td>1.000000</td>\n",
              "      <td>1.000000</td>\n",
              "      <td>1.000000</td>\n",
              "      <td>0.000000</td>\n",
              "      <td>0.000000</td>\n",
              "      <td>1.000000</td>\n",
              "      <td>1.000000</td>\n",
              "    </tr>\n",
              "    <tr>\n",
              "      <th>75%</th>\n",
              "      <td>0.000000</td>\n",
              "      <td>2.000000</td>\n",
              "      <td>3.000000</td>\n",
              "      <td>1.000000</td>\n",
              "      <td>7.000000</td>\n",
              "      <td>1.000000</td>\n",
              "      <td>1.000000</td>\n",
              "      <td>1.000000</td>\n",
              "      <td>2.000000</td>\n",
              "      <td>1.000000</td>\n",
              "      <td>2.000000</td>\n",
              "      <td>1.000000</td>\n",
              "      <td>0.000000</td>\n",
              "      <td>1.000000</td>\n",
              "      <td>1.000000</td>\n",
              "      <td>1.000000</td>\n",
              "    </tr>\n",
              "    <tr>\n",
              "      <th>max</th>\n",
              "      <td>1.000000</td>\n",
              "      <td>3.000000</td>\n",
              "      <td>3.000000</td>\n",
              "      <td>1.000000</td>\n",
              "      <td>8.000000</td>\n",
              "      <td>1.000000</td>\n",
              "      <td>1.000000</td>\n",
              "      <td>2.000000</td>\n",
              "      <td>2.000000</td>\n",
              "      <td>1.000000</td>\n",
              "      <td>2.000000</td>\n",
              "      <td>1.000000</td>\n",
              "      <td>5.000000</td>\n",
              "      <td>2.000000</td>\n",
              "      <td>2.000000</td>\n",
              "      <td>1.000000</td>\n",
              "    </tr>\n",
              "  </tbody>\n",
              "</table>\n",
              "</div>\n",
              "      <button class=\"colab-df-convert\" onclick=\"convertToInteractive('df-2300775a-32f3-49bd-b537-579e89099c19')\"\n",
              "              title=\"Convert this dataframe to an interactive table.\"\n",
              "              style=\"display:none;\">\n",
              "        \n",
              "  <svg xmlns=\"http://www.w3.org/2000/svg\" height=\"24px\"viewBox=\"0 0 24 24\"\n",
              "       width=\"24px\">\n",
              "    <path d=\"M0 0h24v24H0V0z\" fill=\"none\"/>\n",
              "    <path d=\"M18.56 5.44l.94 2.06.94-2.06 2.06-.94-2.06-.94-.94-2.06-.94 2.06-2.06.94zm-11 1L8.5 8.5l.94-2.06 2.06-.94-2.06-.94L8.5 2.5l-.94 2.06-2.06.94zm10 10l.94 2.06.94-2.06 2.06-.94-2.06-.94-.94-2.06-.94 2.06-2.06.94z\"/><path d=\"M17.41 7.96l-1.37-1.37c-.4-.4-.92-.59-1.43-.59-.52 0-1.04.2-1.43.59L10.3 9.45l-7.72 7.72c-.78.78-.78 2.05 0 2.83L4 21.41c.39.39.9.59 1.41.59.51 0 1.02-.2 1.41-.59l7.78-7.78 2.81-2.81c.8-.78.8-2.07 0-2.86zM5.41 20L4 18.59l7.72-7.72 1.47 1.35L5.41 20z\"/>\n",
              "  </svg>\n",
              "      </button>\n",
              "      \n",
              "  <style>\n",
              "    .colab-df-container {\n",
              "      display:flex;\n",
              "      flex-wrap:wrap;\n",
              "      gap: 12px;\n",
              "    }\n",
              "\n",
              "    .colab-df-convert {\n",
              "      background-color: #E8F0FE;\n",
              "      border: none;\n",
              "      border-radius: 50%;\n",
              "      cursor: pointer;\n",
              "      display: none;\n",
              "      fill: #1967D2;\n",
              "      height: 32px;\n",
              "      padding: 0 0 0 0;\n",
              "      width: 32px;\n",
              "    }\n",
              "\n",
              "    .colab-df-convert:hover {\n",
              "      background-color: #E2EBFA;\n",
              "      box-shadow: 0px 1px 2px rgba(60, 64, 67, 0.3), 0px 1px 3px 1px rgba(60, 64, 67, 0.15);\n",
              "      fill: #174EA6;\n",
              "    }\n",
              "\n",
              "    [theme=dark] .colab-df-convert {\n",
              "      background-color: #3B4455;\n",
              "      fill: #D2E3FC;\n",
              "    }\n",
              "\n",
              "    [theme=dark] .colab-df-convert:hover {\n",
              "      background-color: #434B5C;\n",
              "      box-shadow: 0px 1px 3px 1px rgba(0, 0, 0, 0.15);\n",
              "      filter: drop-shadow(0px 1px 2px rgba(0, 0, 0, 0.3));\n",
              "      fill: #FFFFFF;\n",
              "    }\n",
              "  </style>\n",
              "\n",
              "      <script>\n",
              "        const buttonEl =\n",
              "          document.querySelector('#df-2300775a-32f3-49bd-b537-579e89099c19 button.colab-df-convert');\n",
              "        buttonEl.style.display =\n",
              "          google.colab.kernel.accessAllowed ? 'block' : 'none';\n",
              "\n",
              "        async function convertToInteractive(key) {\n",
              "          const element = document.querySelector('#df-2300775a-32f3-49bd-b537-579e89099c19');\n",
              "          const dataTable =\n",
              "            await google.colab.kernel.invokeFunction('convertToInteractive',\n",
              "                                                     [key], {});\n",
              "          if (!dataTable) return;\n",
              "\n",
              "          const docLinkHtml = 'Like what you see? Visit the ' +\n",
              "            '<a target=\"_blank\" href=https://colab.research.google.com/notebooks/data_table.ipynb>data table notebook</a>'\n",
              "            + ' to learn more about interactive tables.';\n",
              "          element.innerHTML = '';\n",
              "          dataTable['output_type'] = 'display_data';\n",
              "          await google.colab.output.renderOutput(dataTable, element);\n",
              "          const docLink = document.createElement('div');\n",
              "          docLink.innerHTML = docLinkHtml;\n",
              "          element.appendChild(docLink);\n",
              "        }\n",
              "      </script>\n",
              "    </div>\n",
              "  </div>\n",
              "  "
            ]
          },
          "metadata": {},
          "execution_count": 27
        }
      ]
    },
    {
      "cell_type": "markdown",
      "source": [
        "Seleksi Fitur Menggunakan Regresi Ridge"
      ],
      "metadata": {
        "id": "yL3KFw0z7_1h"
      }
    },
    {
      "cell_type": "code",
      "source": [
        "from sklearn.linear_model import RidgeCV\n",
        "from sklearn.preprocessing import StandardScaler\n",
        "import numpy as np\n",
        "from sklearn.model_selection import train_test_split\n",
        "\n",
        "# Split dataset menjadi feature matrix X dan target vector y\n",
        "X = data.iloc[:, :-1]\n",
        "y = data.iloc[:, -1]\n",
        "\n",
        "# Fit Lasso model to training data\n",
        "ridge = RidgeCV(cv=5)\n",
        "ridge.fit(X, y)\n",
        "\n",
        "# Get feature importance\n",
        "feature_importance = ridge.coef_\n",
        "\n",
        "# Print feature importance\n",
        "for i, importance in enumerate(feature_importance):\n",
        "    print(\"Feature %d: %f\" % (i, importance))\n",
        "\n",
        "# Get selected features\n",
        "selected_features_4 = np.where(ridge.coef_ != 0)[0]\n",
        "print(data.columns[selected_features_4])\n",
        "\n",
        "# Print selected features\n",
        "print(\"Selected features:\", selected_features_4)\n",
        "\n",
        "# Menampilkan alpha terbaik yang dipilih oleh regresi ridge\n",
        "print(\"Best alpha: \", ridge.alpha_)\n"
      ],
      "metadata": {
        "colab": {
          "base_uri": "https://localhost:8080/"
        },
        "id": "0Z85cuWNyysh",
        "outputId": "7c9e99d0-5b98-49b4-acfc-680af5499086"
      },
      "execution_count": null,
      "outputs": [
        {
          "output_type": "stream",
          "name": "stdout",
          "text": [
            "Feature 0: -0.057417\n",
            "Feature 1: 0.041699\n",
            "Feature 2: 0.080216\n",
            "Feature 3: 0.136814\n",
            "Feature 4: -0.014927\n",
            "Feature 5: 0.233856\n",
            "Feature 6: -0.000135\n",
            "Feature 7: -0.061291\n",
            "Feature 8: -0.017252\n",
            "Feature 9: -0.049734\n",
            "Feature 10: 0.043667\n",
            "Feature 11: 0.050202\n",
            "Feature 12: -0.024105\n",
            "Feature 13: -0.187976\n",
            "Feature 14: -0.272137\n",
            "Index(['Program Studi', 'Percobaan Mendaftar', 'Batch', 'Program', 'Semester',\n",
            "       'Respon Mitra', 'CV', 'IPK', 'Sertifikat Kompetensi', 'Portofolio',\n",
            "       'Waktu Daftar', 'Selinear dg jurusan', 'Jumlah Mitra', 'Test Teknikal',\n",
            "       'Wawancara'],\n",
            "      dtype='object')\n",
            "Selected features: [ 0  1  2  3  4  5  6  7  8  9 10 11 12 13 14]\n",
            "Best alpha:  10.0\n"
          ]
        }
      ]
    },
    {
      "cell_type": "code",
      "source": [
        "from sklearn.linear_model import RidgeCV\n",
        "from sklearn.datasets import make_regression\n",
        "\n",
        "# menghasilkan data dan target acak sebagai contoh\n",
        "X, y = make_regression(n_samples=100, n_features=10, n_informative=5, noise=0.5, random_state=42)\n",
        "\n",
        "# menentukan range alpha\n",
        "alphas = [0.1, 1.0, 10.0]\n",
        "\n",
        "# membuat objek regresi ridgeCV\n",
        "reg = RidgeCV(alphas=alphas)\n",
        "\n",
        "# menyesuaikan model regresi ridgeCV ke data\n",
        "reg.fit(X, y)\n",
        "\n",
        "# menampilkan score untuk setiap alpha\n",
        "print(reg.alpha_)\n",
        "\n",
        "# Get feature importance\n",
        "feature_importance = reg.coef_\n",
        "\n",
        "# Print feature importance\n",
        "for i, importance in enumerate(feature_importance):\n",
        "    print(\"Feature %d: %f\" % (i, importance))\n",
        "\n",
        "# Get selected features\n",
        "selected_features_5 = np.where(reg.coef_ != 0)[0]\n",
        "print(data.columns[selected_features_5])\n",
        "\n",
        "# Print selected features\n",
        "print(\"Selected features:\", selected_features_5)"
      ],
      "metadata": {
        "colab": {
          "base_uri": "https://localhost:8080/"
        },
        "id": "2bmixN5gPrSF",
        "outputId": "9d7f6bcc-9b9d-481b-f635-502bc72931bf"
      },
      "execution_count": null,
      "outputs": [
        {
          "output_type": "stream",
          "name": "stdout",
          "text": [
            "0.1\n",
            "Feature 0: 16.728913\n",
            "Feature 1: 0.022550\n",
            "Feature 2: 0.043484\n",
            "Feature 3: 63.562041\n",
            "Feature 4: 0.090281\n",
            "Feature 5: 70.577472\n",
            "Feature 6: -0.028994\n",
            "Feature 7: 10.389630\n",
            "Feature 8: 3.178272\n",
            "Feature 9: -0.050895\n",
            "Index(['Program Studi', 'Percobaan Mendaftar', 'Batch', 'Program', 'Semester',\n",
            "       'Respon Mitra', 'CV', 'IPK', 'Sertifikat Kompetensi', 'Portofolio'],\n",
            "      dtype='object')\n",
            "Selected features: [0 1 2 3 4 5 6 7 8 9]\n"
          ]
        }
      ]
    },
    {
      "cell_type": "code",
      "source": [
        "from sklearn.linear_model import RidgeCV\n",
        "import matplotlib.pyplot as plt\n",
        "\n",
        "# Memisahkan atribut dan target\n",
        "X = data.drop('Lolos', axis=1)\n",
        "y = data['Lolos']\n",
        "\n",
        "# Membuat model RidgeCV dan menentukan rentang alpha yang akan diuji\n",
        "alphas = np.logspace(-4, 4, 9)\n",
        "ridgecv = RidgeCV(alphas=alphas, store_cv_values=True)\n",
        "\n",
        "# Melakukan pelatihan model\n",
        "ridgecv.fit(X, y)\n",
        "\n",
        "# Mencetak nilai alpha terbaik\n",
        "print(\"Best alpha:\", ridgecv.alpha_)\n",
        "\n",
        "# Membuat plot untuk menampilkan nilai alpha terbaik\n",
        "plt.semilogx(alphas, ridgecv.cv_values_.mean(axis=0))\n",
        "plt.xlabel('alpha')\n",
        "plt.ylabel('MSE')\n",
        "plt.show()"
      ],
      "metadata": {
        "colab": {
          "base_uri": "https://localhost:8080/",
          "height": 472
        },
        "id": "WpCLYauXQWui",
        "outputId": "744b11f5-781e-468e-a6e8-e5b8d3ec5d12"
      },
      "execution_count": null,
      "outputs": [
        {
          "output_type": "stream",
          "name": "stdout",
          "text": [
            "Best alpha: 10.0\n"
          ]
        },
        {
          "output_type": "display_data",
          "data": {
            "text/plain": [
              "<Figure size 640x480 with 1 Axes>"
            ],
            "image/png": "[encoded data removed]"
          },
          "metadata": {}
        }
      ]
    },
    {
      "cell_type": "code",
      "source": [
        "from sklearn.linear_model import Ridge\n",
        "from sklearn.preprocessing import StandardScaler\n",
        "import numpy as np\n",
        "from sklearn.feature_selection import SelectFromModel\n",
        "\n",
        "\n",
        "# Split dataset menjadi feature matrix X dan target vector y\n",
        "X = data.iloc[:, :-1]\n",
        "y = data.iloc[:, -1]\n",
        "\n",
        "# Create Ridge regression model with alpha=0.1\n",
        "ridge = Ridge(alpha=10)\n",
        "\n",
        "# Use SelectFromModel to select features based on Ridge regression\n",
        "selector = SelectFromModel(ridge)\n",
        "\n",
        "# Fit the selector on the data\n",
        "selector.fit(X, y)\n",
        "\n",
        "# Get the selected features\n",
        "selected_features = selector.get_support()\n",
        "\n",
        "# Print the selected features\n",
        "print(\"Selected features:\", X.columns[selected_features])"
      ],
      "metadata": {
        "colab": {
          "base_uri": "https://localhost:8080/"
        },
        "id": "boK2jCBY5rub",
        "outputId": "ccf2f87f-59ba-48ae-d246-cc0e6cc06ecc"
      },
      "execution_count": null,
      "outputs": [
        {
          "output_type": "stream",
          "name": "stdout",
          "text": [
            "Selected features: Index(['Program', 'Respon Mitra', 'Test Teknikal', 'Wawancara'], dtype='object')\n"
          ]
        }
      ]
    },
    {
      "cell_type": "code",
      "source": [
        "from sklearn.model_selection import cross_val_score\n",
        "# Melihat performa regresi ridge pada setiap alpha yang diuji\n",
        "scores = cross_val_score(ridge, X, y, cv=5)\n",
        "\n",
        "# Menampilkan performa regresi ridge pada setiap alpha yang diuji\n",
        "print(\"Cross-validation scores: \", scores)\n",
        "print(\"Average CV Score: \", scores.mean())"
      ],
      "metadata": {
        "colab": {
          "base_uri": "https://localhost:8080/"
        },
        "id": "rNftVP5QZejv",
        "outputId": "c6180f83-f733-403d-a52e-86d11d07e87e"
      },
      "execution_count": null,
      "outputs": [
        {
          "output_type": "stream",
          "name": "stdout",
          "text": [
            "Cross-validation scores:  [0.45348679 0.5198854  0.56245512 0.61042578 0.52695682]\n",
            "Average CV Score:  0.5346419830665461\n"
          ]
        }
      ]
    },
    {
      "cell_type": "code",
      "source": [
        "# Melihat performa regresi ridge pada setiap alpha yang diuji\n",
        "scores = cross_val_score(elastic_cv, X, y, cv=5)\n",
        "\n",
        "# Menampilkan performa regresi ridge pada setiap alpha yang diuji\n",
        "print(\"Cross-validation scores: \", scores)\n",
        "print(\"Average CV Score: \", scores.mean())"
      ],
      "metadata": {
        "colab": {
          "base_uri": "https://localhost:8080/"
        },
        "id": "7A17S_hx9Tni",
        "outputId": "3d46df30-9357-4d3f-dc4c-2b772345b00c"
      },
      "execution_count": null,
      "outputs": [
        {
          "output_type": "stream",
          "name": "stdout",
          "text": [
            "Cross-validation scores:  [0.49657931 0.49629493 0.52937985 0.5949007  0.58595001]\n",
            "Average CV Score:  0.540620960033672\n"
          ]
        }
      ]
    },
    {
      "cell_type": "code",
      "source": [
        "#Mengevaluasi hasil pemilihan fitur menggunkan MSE\n",
        "\n",
        "from sklearn.metrics import mean_squared_error\n",
        "from sklearn.metrics import mean_absolute_error\n",
        "from sklearn.metrics import r2_score\n",
        "\n",
        "\n",
        "#mencetak skor MSE\n",
        "y_predict = elastic_cv.predict(X_test)\n",
        "print(\"MSE: {:.2f}\".format(mean_squared_error(y_test, y_predict)))\n",
        "print(\"MAE: {:.2f}\".format(mean_absolute_error(y_test, y_predict)))\n",
        "\n",
        "r_squared = r2_score(y_test, y_predict)\n",
        "print('R-Square:', r_squared)"
      ],
      "metadata": {
        "colab": {
          "base_uri": "https://localhost:8080/"
        },
        "id": "Uujzx7iG9irx",
        "outputId": "b6bb5653-697a-4eef-aafe-7bebb70029f2"
      },
      "execution_count": null,
      "outputs": [
        {
          "output_type": "stream",
          "name": "stdout",
          "text": [
            "MSE: 0.08\n",
            "MAE: 0.22\n",
            "R-Square: 0.6520118345033805\n"
          ]
        }
      ]
    },
    {
      "cell_type": "markdown",
      "source": [
        "# Modelling"
      ],
      "metadata": {
        "id": "OWWe8_AWQ-Kr"
      }
    },
    {
      "cell_type": "code",
      "source": [
        "selected_features = ['Program','Respon Mitra','Test Teknikal','Wawancara','Lolos']\n",
        "data_selected = data[selected_features]\n",
        "print(data_selected)"
      ],
      "metadata": {
        "colab": {
          "base_uri": "https://localhost:8080/"
        },
        "id": "QWe5iLHbDq14",
        "outputId": "78911c8b-ea38-4a1b-ffc6-6b52dda20012"
      },
      "execution_count": null,
      "outputs": [
        {
          "output_type": "stream",
          "name": "stdout",
          "text": [
            "     Program  Respon Mitra  Test Teknikal  Wawancara  Lolos\n",
            "0          0             1              0          0      1\n",
            "1          1             1              0          1      1\n",
            "2          0             0              0          2      0\n",
            "3          1             0              2          1      0\n",
            "4          0             0              2          1      0\n",
            "..       ...           ...            ...        ...    ...\n",
            "248        1             1              0          1      1\n",
            "249        1             1              1          1      1\n",
            "250        1             1              0          1      1\n",
            "251        0             1              1          1      0\n",
            "252        1             1              0          1      1\n",
            "\n",
            "[253 rows x 5 columns]\n"
          ]
        }
      ]
    },
    {
      "cell_type": "code",
      "source": [
        "y = data_selected['Lolos']\n",
        "y"
      ],
      "metadata": {
        "id": "I_FpD1qXN0Do",
        "colab": {
          "base_uri": "https://localhost:8080/"
        },
        "outputId": "7241fa1d-5211-420e-eee4-88d665b5e6f5"
      },
      "execution_count": null,
      "outputs": [
        {
          "output_type": "execute_result",
          "data": {
            "text/plain": [
              "0      1\n",
              "1      1\n",
              "2      0\n",
              "3      0\n",
              "4      0\n",
              "      ..\n",
              "248    1\n",
              "249    1\n",
              "250    1\n",
              "251    0\n",
              "252    1\n",
              "Name: Lolos, Length: 253, dtype: int64"
            ]
          },
          "metadata": {},
          "execution_count": 41
        }
      ]
    },
    {
      "cell_type": "code",
      "source": [
        "X = data_selected.drop('Lolos', axis=1)\n",
        "X"
      ],
      "metadata": {
        "id": "quaGx6y3HVWI",
        "colab": {
          "base_uri": "https://localhost:8080/",
          "height": 424
        },
        "outputId": "10dd2634-451d-4803-b468-5f9b616bef3b"
      },
      "execution_count": null,
      "outputs": [
        {
          "output_type": "execute_result",
          "data": {
            "text/plain": [
              "     Program  Respon Mitra  Test Teknikal  Wawancara\n",
              "0          0             1              0          0\n",
              "1          1             1              0          1\n",
              "2          0             0              0          2\n",
              "3          1             0              2          1\n",
              "4          0             0              2          1\n",
              "..       ...           ...            ...        ...\n",
              "248        1             1              0          1\n",
              "249        1             1              1          1\n",
              "250        1             1              0          1\n",
              "251        0             1              1          1\n",
              "252        1             1              0          1\n",
              "\n",
              "[253 rows x 4 columns]"
            ],
            "text/html": [
              "\n",
              "  <div id=\"df-1d823ae2-2edc-4bee-9690-9d9e6f8837ad\">\n",
              "    <div class=\"colab-df-container\">\n",
              "      <div>\n",
              "<style scoped>\n",
              "    .dataframe tbody tr th:only-of-type {\n",
              "        vertical-align: middle;\n",
              "    }\n",
              "\n",
              "    .dataframe tbody tr th {\n",
              "        vertical-align: top;\n",
              "    }\n",
              "\n",
              "    .dataframe thead th {\n",
              "        text-align: right;\n",
              "    }\n",
              "</style>\n",
              "<table border=\"1\" class=\"dataframe\">\n",
              "  <thead>\n",
              "    <tr style=\"text-align: right;\">\n",
              "      <th></th>\n",
              "      <th>Program</th>\n",
              "      <th>Respon Mitra</th>\n",
              "      <th>Test Teknikal</th>\n",
              "      <th>Wawancara</th>\n",
              "    </tr>\n",
              "  </thead>\n",
              "  <tbody>\n",
              "    <tr>\n",
              "      <th>0</th>\n",
              "      <td>0</td>\n",
              "      <td>1</td>\n",
              "      <td>0</td>\n",
              "      <td>0</td>\n",
              "    </tr>\n",
              "    <tr>\n",
              "      <th>1</th>\n",
              "      <td>1</td>\n",
              "      <td>1</td>\n",
              "      <td>0</td>\n",
              "      <td>1</td>\n",
              "    </tr>\n",
              "    <tr>\n",
              "      <th>2</th>\n",
              "      <td>0</td>\n",
              "      <td>0</td>\n",
              "      <td>0</td>\n",
              "      <td>2</td>\n",
              "    </tr>\n",
              "    <tr>\n",
              "      <th>3</th>\n",
              "      <td>1</td>\n",
              "      <td>0</td>\n",
              "      <td>2</td>\n",
              "      <td>1</td>\n",
              "    </tr>\n",
              "    <tr>\n",
              "      <th>4</th>\n",
              "      <td>0</td>\n",
              "      <td>0</td>\n",
              "      <td>2</td>\n",
              "      <td>1</td>\n",
              "    </tr>\n",
              "    <tr>\n",
              "      <th>...</th>\n",
              "      <td>...</td>\n",
              "      <td>...</td>\n",
              "      <td>...</td>\n",
              "      <td>...</td>\n",
              "    </tr>\n",
              "    <tr>\n",
              "      <th>248</th>\n",
              "      <td>1</td>\n",
              "      <td>1</td>\n",
              "      <td>0</td>\n",
              "      <td>1</td>\n",
              "    </tr>\n",
              "    <tr>\n",
              "      <th>249</th>\n",
              "      <td>1</td>\n",
              "      <td>1</td>\n",
              "      <td>1</td>\n",
              "      <td>1</td>\n",
              "    </tr>\n",
              "    <tr>\n",
              "      <th>250</th>\n",
              "      <td>1</td>\n",
              "      <td>1</td>\n",
              "      <td>0</td>\n",
              "      <td>1</td>\n",
              "    </tr>\n",
              "    <tr>\n",
              "      <th>251</th>\n",
              "      <td>0</td>\n",
              "      <td>1</td>\n",
              "      <td>1</td>\n",
              "      <td>1</td>\n",
              "    </tr>\n",
              "    <tr>\n",
              "      <th>252</th>\n",
              "      <td>1</td>\n",
              "      <td>1</td>\n",
              "      <td>0</td>\n",
              "      <td>1</td>\n",
              "    </tr>\n",
              "  </tbody>\n",
              "</table>\n",
              "<p>253 rows × 4 columns</p>\n",
              "</div>\n",
              "      <button class=\"colab-df-convert\" onclick=\"convertToInteractive('df-1d823ae2-2edc-4bee-9690-9d9e6f8837ad')\"\n",
              "              title=\"Convert this dataframe to an interactive table.\"\n",
              "              style=\"display:none;\">\n",
              "        \n",
              "  <svg xmlns=\"http://www.w3.org/2000/svg\" height=\"24px\"viewBox=\"0 0 24 24\"\n",
              "       width=\"24px\">\n",
              "    <path d=\"M0 0h24v24H0V0z\" fill=\"none\"/>\n",
              "    <path d=\"M18.56 5.44l.94 2.06.94-2.06 2.06-.94-2.06-.94-.94-2.06-.94 2.06-2.06.94zm-11 1L8.5 8.5l.94-2.06 2.06-.94-2.06-.94L8.5 2.5l-.94 2.06-2.06.94zm10 10l.94 2.06.94-2.06 2.06-.94-2.06-.94-.94-2.06-.94 2.06-2.06.94z\"/><path d=\"M17.41 7.96l-1.37-1.37c-.4-.4-.92-.59-1.43-.59-.52 0-1.04.2-1.43.59L10.3 9.45l-7.72 7.72c-.78.78-.78 2.05 0 2.83L4 21.41c.39.39.9.59 1.41.59.51 0 1.02-.2 1.41-.59l7.78-7.78 2.81-2.81c.8-.78.8-2.07 0-2.86zM5.41 20L4 18.59l7.72-7.72 1.47 1.35L5.41 20z\"/>\n",
              "  </svg>\n",
              "      </button>\n",
              "      \n",
              "  <style>\n",
              "    .colab-df-container {\n",
              "      display:flex;\n",
              "      flex-wrap:wrap;\n",
              "      gap: 12px;\n",
              "    }\n",
              "\n",
              "    .colab-df-convert {\n",
              "      background-color: #E8F0FE;\n",
              "      border: none;\n",
              "      border-radius: 50%;\n",
              "      cursor: pointer;\n",
              "      display: none;\n",
              "      fill: #1967D2;\n",
              "      height: 32px;\n",
              "      padding: 0 0 0 0;\n",
              "      width: 32px;\n",
              "    }\n",
              "\n",
              "    .colab-df-convert:hover {\n",
              "      background-color: #E2EBFA;\n",
              "      box-shadow: 0px 1px 2px rgba(60, 64, 67, 0.3), 0px 1px 3px 1px rgba(60, 64, 67, 0.15);\n",
              "      fill: #174EA6;\n",
              "    }\n",
              "\n",
              "    [theme=dark] .colab-df-convert {\n",
              "      background-color: #3B4455;\n",
              "      fill: #D2E3FC;\n",
              "    }\n",
              "\n",
              "    [theme=dark] .colab-df-convert:hover {\n",
              "      background-color: #434B5C;\n",
              "      box-shadow: 0px 1px 3px 1px rgba(0, 0, 0, 0.15);\n",
              "      filter: drop-shadow(0px 1px 2px rgba(0, 0, 0, 0.3));\n",
              "      fill: #FFFFFF;\n",
              "    }\n",
              "  </style>\n",
              "\n",
              "      <script>\n",
              "        const buttonEl =\n",
              "          document.querySelector('#df-1d823ae2-2edc-4bee-9690-9d9e6f8837ad button.colab-df-convert');\n",
              "        buttonEl.style.display =\n",
              "          google.colab.kernel.accessAllowed ? 'block' : 'none';\n",
              "\n",
              "        async function convertToInteractive(key) {\n",
              "          const element = document.querySelector('#df-1d823ae2-2edc-4bee-9690-9d9e6f8837ad');\n",
              "          const dataTable =\n",
              "            await google.colab.kernel.invokeFunction('convertToInteractive',\n",
              "                                                     [key], {});\n",
              "          if (!dataTable) return;\n",
              "\n",
              "          const docLinkHtml = 'Like what you see? Visit the ' +\n",
              "            '<a target=\"_blank\" href=https://colab.research.google.com/notebooks/data_table.ipynb>data table notebook</a>'\n",
              "            + ' to learn more about interactive tables.';\n",
              "          element.innerHTML = '';\n",
              "          dataTable['output_type'] = 'display_data';\n",
              "          await google.colab.output.renderOutput(dataTable, element);\n",
              "          const docLink = document.createElement('div');\n",
              "          docLink.innerHTML = docLinkHtml;\n",
              "          element.appendChild(docLink);\n",
              "        }\n",
              "      </script>\n",
              "    </div>\n",
              "  </div>\n",
              "  "
            ]
          },
          "metadata": {},
          "execution_count": 42
        }
      ]
    },
    {
      "cell_type": "code",
      "source": [
        "from sklearn.tree import DecisionTreeClassifier\n",
        "from sklearn.model_selection import train_test_split\n",
        "\n",
        "X_train_1, X_test_1, y_train_1, y_test_1 = train_test_split(X, y, test_size=0.1, random_state=42)\n",
        "model_1 = DecisionTreeClassifier(max_depth=4, min_samples_leaf=1)\n",
        "model_1.fit(X_train_1, y_train_1)\n",
        "print(\"Nilai akurasi model 1 adalah: \", model_1.score(X_test_1, y_test_1))\n"
      ],
      "metadata": {
        "id": "jzN-kaXAOGqn",
        "colab": {
          "base_uri": "https://localhost:8080/"
        },
        "outputId": "cec203b3-ebe0-460d-be64-700fa6fbddeb"
      },
      "execution_count": null,
      "outputs": [
        {
          "output_type": "stream",
          "name": "stdout",
          "text": [
            "Nilai akurasi model 1 adalah:  0.8076923076923077\n"
          ]
        }
      ]
    },
    {
      "cell_type": "code",
      "source": [
        "y_pred_1 = model_1.predict(X_test_1)\n",
        "y_pred_1"
      ],
      "metadata": {
        "id": "eHIAjQMayhdX",
        "colab": {
          "base_uri": "https://localhost:8080/"
        },
        "outputId": "7edd8022-42a8-46a5-d107-b33d13710689"
      },
      "execution_count": null,
      "outputs": [
        {
          "output_type": "execute_result",
          "data": {
            "text/plain": [
              "array([1, 0, 1, 0, 1, 1, 1, 0, 0, 1, 1, 0, 1, 0, 1, 1, 1, 1, 1, 1, 1, 0,\n",
              "       1, 1, 1, 1])"
            ]
          },
          "metadata": {},
          "execution_count": 44
        }
      ]
    },
    {
      "cell_type": "code",
      "source": [
        "X_train_2, X_test_2, y_train_2, y_test_2 = train_test_split(X, y, test_size=0.2, random_state=42)\n",
        "model_2 = DecisionTreeClassifier(max_depth=4, min_samples_leaf=1)\n",
        "model_2.fit(X_train_2, y_train_2)\n",
        "print(\"Nilai akurasi model 2 adalah: \", model_2.score(X_test_2, y_test_2))\n"
      ],
      "metadata": {
        "id": "HqKyVUwrOtJu",
        "colab": {
          "base_uri": "https://localhost:8080/"
        },
        "outputId": "bdbfde26-3a23-458c-ebc0-63efa724a7ca"
      },
      "execution_count": null,
      "outputs": [
        {
          "output_type": "stream",
          "name": "stdout",
          "text": [
            "Nilai akurasi model 2 adalah:  0.8627450980392157\n"
          ]
        }
      ]
    },
    {
      "cell_type": "code",
      "source": [
        "y_pred_2 = model_2.predict(X_test_2)\n",
        "y_pred_2"
      ],
      "metadata": {
        "id": "-WESpPO7yzmA",
        "colab": {
          "base_uri": "https://localhost:8080/"
        },
        "outputId": "f4bb1deb-d65d-4663-d7ba-20f1d99a4a2b"
      },
      "execution_count": null,
      "outputs": [
        {
          "output_type": "execute_result",
          "data": {
            "text/plain": [
              "array([1, 0, 1, 0, 1, 1, 1, 0, 0, 1, 0, 1, 1, 0, 1, 1, 1, 1, 1, 1, 1, 0,\n",
              "       1, 1, 1, 1, 1, 0, 0, 1, 0, 1, 1, 1, 0, 1, 1, 1, 0, 1, 1, 1, 0, 1,\n",
              "       1, 1, 0, 0, 0, 0, 1])"
            ]
          },
          "metadata": {},
          "execution_count": 46
        }
      ]
    },
    {
      "cell_type": "code",
      "source": [
        "X_train_3, X_test_3, y_train_3, y_test_3 = train_test_split(X, y, test_size=0.3, random_state=42)\n",
        "model_3 = DecisionTreeClassifier(max_depth=4,min_samples_leaf=1)\n",
        "model_3.fit(X_train_3, y_train_3)\n",
        "print(\"Nilai akurasi model 3 adalah: \", model_3.score(X_test_3, y_test_3))"
      ],
      "metadata": {
        "id": "v8ryQnT95EYs",
        "colab": {
          "base_uri": "https://localhost:8080/"
        },
        "outputId": "d62fc33f-f6c2-4fcb-af8b-d20011cf0b48"
      },
      "execution_count": null,
      "outputs": [
        {
          "output_type": "stream",
          "name": "stdout",
          "text": [
            "Nilai akurasi model 3 adalah:  0.868421052631579\n"
          ]
        }
      ]
    },
    {
      "cell_type": "code",
      "source": [
        "y_pred_3 = model_3.predict(X_test_3)\n",
        "y_pred_3"
      ],
      "metadata": {
        "id": "U0q8918Sy4Cc",
        "colab": {
          "base_uri": "https://localhost:8080/"
        },
        "outputId": "25a3a2fe-3d79-4fab-e310-874720c612a1"
      },
      "execution_count": null,
      "outputs": [
        {
          "output_type": "execute_result",
          "data": {
            "text/plain": [
              "array([1, 0, 1, 0, 1, 1, 1, 0, 0, 1, 1, 1, 1, 0, 1, 1, 1, 1, 1, 1, 1, 0,\n",
              "       1, 1, 1, 1, 1, 0, 0, 1, 0, 1, 1, 1, 0, 1, 1, 1, 0, 1, 1, 1, 1, 1,\n",
              "       1, 1, 0, 0, 0, 0, 1, 1, 1, 1, 0, 0, 1, 1, 1, 1, 1, 1, 1, 1, 1, 1,\n",
              "       1, 1, 0, 1, 1, 0, 1, 0, 1, 1])"
            ]
          },
          "metadata": {},
          "execution_count": 48
        }
      ]
    },
    {
      "cell_type": "code",
      "source": [
        "from sklearn.model_selection import learning_curve\n",
        "import numpy as np\n",
        "import matplotlib.pyplot as plt\n",
        "\n",
        "# X dan y adalah data kita\n",
        "# model adalah model machine learning kita\n",
        "\n",
        "train_sizes, train_scores, test_scores = learning_curve(\n",
        "    model_3, X, y, cv=10, train_sizes=np.linspace(0.1, 1.0, 20))\n",
        "\n",
        "train_scores_mean = np.mean(train_scores, axis=1)\n",
        "test_scores_mean = np.mean(test_scores, axis=1)\n",
        "\n",
        "plt.plot(train_sizes, train_scores_mean, 'o-', color=\"b\",\n",
        "         label=\"Training score\")\n",
        "plt.plot(train_sizes, test_scores_mean, 'o-', color=\"g\",\n",
        "         label=\"Cross-validation score\")\n",
        "\n",
        "plt.xlabel(\"Training examples\")\n",
        "plt.ylabel(\"Score\")\n",
        "plt.legend(loc=\"best\")\n",
        "\n",
        "plt.show()"
      ],
      "metadata": {
        "colab": {
          "base_uri": "https://localhost:8080/",
          "height": 449
        },
        "id": "-ZALCO7zU961",
        "outputId": "cb84046f-a8a9-40ca-f7d2-ad51ae5146fd"
      },
      "execution_count": null,
      "outputs": [
        {
          "output_type": "display_data",
          "data": {
            "text/plain": [
              "<Figure size 640x480 with 1 Axes>"
            ],
            "image/png": "[encoded data removed]"
          },
          "metadata": {}
        }
      ]
    },
    {
      "cell_type": "code",
      "source": [
        "from sklearn.model_selection import learning_curve\n",
        "import numpy as np\n",
        "\n",
        "train_sizes, train_scores, test_scores = learning_curve(estimator=model_1, X=X, y=y, cv=5, train_sizes=np.linspace(0.1, 1.0, 10))\n",
        "\n",
        "train_mean = np.mean(train_scores, axis=1)\n",
        "train_std = np.std(train_scores, axis=1)\n",
        "test_mean = np.mean(test_scores, axis=1)\n",
        "test_std = np.std(test_scores, axis=1)\n",
        "\n",
        "plt.plot(train_sizes, train_mean, color='blue', marker='o', markersize=5, label='Training accuracy')\n",
        "plt.fill_between(train_sizes, train_mean + train_std, train_mean - train_std, alpha=0.15, color='blue')\n",
        "\n",
        "plt.plot(train_sizes, test_mean, color='green', linestyle='--', marker='s', markersize=5, label='Validation accuracy')\n",
        "plt.fill_between(train_sizes, test_mean + test_std, test_mean - test_std, alpha=0.15, color='green')\n",
        "\n",
        "plt.title('Learning curve skenario 1')\n",
        "plt.xlabel('Number of training samples')\n",
        "plt.ylabel('Accuracy')\n",
        "plt.legend(loc='lower right')\n",
        "plt.ylim([0.10, 1.0])\n",
        "plt.show()"
      ],
      "metadata": {
        "colab": {
          "base_uri": "https://localhost:8080/",
          "height": 472
        },
        "id": "oFLqr6l4w2wh",
        "outputId": "bed33ecd-7ca2-475a-a1a3-3b2118d451b2"
      },
      "execution_count": null,
      "outputs": [
        {
          "output_type": "display_data",
          "data": {
            "text/plain": [
              "<Figure size 640x480 with 1 Axes>"
            ],
            "image/png": "[encoded data removed]"
          },
          "metadata": {}
        }
      ]
    },
    {
      "cell_type": "markdown",
      "source": [
        "# Evaluasi"
      ],
      "metadata": {
        "id": "HCUwap-2J_SV"
      }
    },
    {
      "cell_type": "code",
      "source": [
        "from sklearn.model_selection import KFold, cross_val_score, cross_val_predict\n",
        "\n",
        "model_4 = DecisionTreeClassifier()\n",
        "cv = KFold(n_splits=10)\n",
        "scores = cross_val_score(model_4, X, y, cv=cv)\n",
        "print(\"Cross Validation Scores:\", scores)\n",
        "print(\"Average CV Score: \", scores.mean())\n",
        "print(\"Number of CV Scores Used in Average: \", len(scores))"
      ],
      "metadata": {
        "id": "EksCj2orHoU0",
        "colab": {
          "base_uri": "https://localhost:8080/"
        },
        "outputId": "ed3dd8b9-6024-479d-c6dc-b621dc86455e"
      },
      "execution_count": null,
      "outputs": [
        {
          "output_type": "stream",
          "name": "stdout",
          "text": [
            "Cross Validation Scores: [0.96153846 0.73076923 0.80769231 0.96       0.96       0.88\n",
            " 0.92       0.92       0.96       0.92      ]\n",
            "Average CV Score:  0.9019999999999999\n",
            "Number of CV Scores Used in Average:  10\n"
          ]
        }
      ]
    },
    {
      "cell_type": "code",
      "source": [
        "plt.plot(scores)\n",
        "plt.xlabel('Fold')\n",
        "plt.ylabel('Accuracy')\n",
        "plt.title('Cross-validation Accuracy Scores')\n",
        "plt.show()"
      ],
      "metadata": {
        "colab": {
          "base_uri": "https://localhost:8080/",
          "height": 472
        },
        "id": "YSzXdKpH_ngh",
        "outputId": "b54c65d4-a88e-4001-d731-ca99b5adb1ff"
      },
      "execution_count": null,
      "outputs": [
        {
          "output_type": "display_data",
          "data": {
            "text/plain": [
              "<Figure size 640x480 with 1 Axes>"
            ],
            "image/png": "[encoded data removed]"
          },
          "metadata": {}
        }
      ]
    },
    {
      "cell_type": "code",
      "source": [
        "for train_index, test_index in cv.split(X):\n",
        " print('TRAIN:', train_index, 'TEST:', test_index)"
      ],
      "metadata": {
        "id": "tyf8bQr7Jmo9",
        "colab": {
          "base_uri": "https://localhost:8080/"
        },
        "outputId": "89917068-47e8-45b3-f41f-9cc277384156"
      },
      "execution_count": null,
      "outputs": [
        {
          "output_type": "stream",
          "name": "stdout",
          "text": [
            "TRAIN: [ 26  27  28  29  30  31  32  33  34  35  36  37  38  39  40  41  42  43\n",
            "  44  45  46  47  48  49  50  51  52  53  54  55  56  57  58  59  60  61\n",
            "  62  63  64  65  66  67  68  69  70  71  72  73  74  75  76  77  78  79\n",
            "  80  81  82  83  84  85  86  87  88  89  90  91  92  93  94  95  96  97\n",
            "  98  99 100 101 102 103 104 105 106 107 108 109 110 111 112 113 114 115\n",
            " 116 117 118 119 120 121 122 123 124 125 126 127 128 129 130 131 132 133\n",
            " 134 135 136 137 138 139 140 141 142 143 144 145 146 147 148 149 150 151\n",
            " 152 153 154 155 156 157 158 159 160 161 162 163 164 165 166 167 168 169\n",
            " 170 171 172 173 174 175 176 177 178 179 180 181 182 183 184 185 186 187\n",
            " 188 189 190 191 192 193 194 195 196 197 198 199 200 201 202 203 204 205\n",
            " 206 207 208 209 210 211 212 213 214 215 216 217 218 219 220 221 222 223\n",
            " 224 225 226 227 228 229 230 231 232 233 234 235 236 237 238 239 240 241\n",
            " 242 243 244 245 246 247 248 249 250 251 252] TEST: [ 0  1  2  3  4  5  6  7  8  9 10 11 12 13 14 15 16 17 18 19 20 21 22 23\n",
            " 24 25]\n",
            "TRAIN: [  0   1   2   3   4   5   6   7   8   9  10  11  12  13  14  15  16  17\n",
            "  18  19  20  21  22  23  24  25  52  53  54  55  56  57  58  59  60  61\n",
            "  62  63  64  65  66  67  68  69  70  71  72  73  74  75  76  77  78  79\n",
            "  80  81  82  83  84  85  86  87  88  89  90  91  92  93  94  95  96  97\n",
            "  98  99 100 101 102 103 104 105 106 107 108 109 110 111 112 113 114 115\n",
            " 116 117 118 119 120 121 122 123 124 125 126 127 128 129 130 131 132 133\n",
            " 134 135 136 137 138 139 140 141 142 143 144 145 146 147 148 149 150 151\n",
            " 152 153 154 155 156 157 158 159 160 161 162 163 164 165 166 167 168 169\n",
            " 170 171 172 173 174 175 176 177 178 179 180 181 182 183 184 185 186 187\n",
            " 188 189 190 191 192 193 194 195 196 197 198 199 200 201 202 203 204 205\n",
            " 206 207 208 209 210 211 212 213 214 215 216 217 218 219 220 221 222 223\n",
            " 224 225 226 227 228 229 230 231 232 233 234 235 236 237 238 239 240 241\n",
            " 242 243 244 245 246 247 248 249 250 251 252] TEST: [26 27 28 29 30 31 32 33 34 35 36 37 38 39 40 41 42 43 44 45 46 47 48 49\n",
            " 50 51]\n",
            "TRAIN: [  0   1   2   3   4   5   6   7   8   9  10  11  12  13  14  15  16  17\n",
            "  18  19  20  21  22  23  24  25  26  27  28  29  30  31  32  33  34  35\n",
            "  36  37  38  39  40  41  42  43  44  45  46  47  48  49  50  51  78  79\n",
            "  80  81  82  83  84  85  86  87  88  89  90  91  92  93  94  95  96  97\n",
            "  98  99 100 101 102 103 104 105 106 107 108 109 110 111 112 113 114 115\n",
            " 116 117 118 119 120 121 122 123 124 125 126 127 128 129 130 131 132 133\n",
            " 134 135 136 137 138 139 140 141 142 143 144 145 146 147 148 149 150 151\n",
            " 152 153 154 155 156 157 158 159 160 161 162 163 164 165 166 167 168 169\n",
            " 170 171 172 173 174 175 176 177 178 179 180 181 182 183 184 185 186 187\n",
            " 188 189 190 191 192 193 194 195 196 197 198 199 200 201 202 203 204 205\n",
            " 206 207 208 209 210 211 212 213 214 215 216 217 218 219 220 221 222 223\n",
            " 224 225 226 227 228 229 230 231 232 233 234 235 236 237 238 239 240 241\n",
            " 242 243 244 245 246 247 248 249 250 251 252] TEST: [52 53 54 55 56 57 58 59 60 61 62 63 64 65 66 67 68 69 70 71 72 73 74 75\n",
            " 76 77]\n",
            "TRAIN: [  0   1   2   3   4   5   6   7   8   9  10  11  12  13  14  15  16  17\n",
            "  18  19  20  21  22  23  24  25  26  27  28  29  30  31  32  33  34  35\n",
            "  36  37  38  39  40  41  42  43  44  45  46  47  48  49  50  51  52  53\n",
            "  54  55  56  57  58  59  60  61  62  63  64  65  66  67  68  69  70  71\n",
            "  72  73  74  75  76  77 103 104 105 106 107 108 109 110 111 112 113 114\n",
            " 115 116 117 118 119 120 121 122 123 124 125 126 127 128 129 130 131 132\n",
            " 133 134 135 136 137 138 139 140 141 142 143 144 145 146 147 148 149 150\n",
            " 151 152 153 154 155 156 157 158 159 160 161 162 163 164 165 166 167 168\n",
            " 169 170 171 172 173 174 175 176 177 178 179 180 181 182 183 184 185 186\n",
            " 187 188 189 190 191 192 193 194 195 196 197 198 199 200 201 202 203 204\n",
            " 205 206 207 208 209 210 211 212 213 214 215 216 217 218 219 220 221 222\n",
            " 223 224 225 226 227 228 229 230 231 232 233 234 235 236 237 238 239 240\n",
            " 241 242 243 244 245 246 247 248 249 250 251 252] TEST: [ 78  79  80  81  82  83  84  85  86  87  88  89  90  91  92  93  94  95\n",
            "  96  97  98  99 100 101 102]\n",
            "TRAIN: [  0   1   2   3   4   5   6   7   8   9  10  11  12  13  14  15  16  17\n",
            "  18  19  20  21  22  23  24  25  26  27  28  29  30  31  32  33  34  35\n",
            "  36  37  38  39  40  41  42  43  44  45  46  47  48  49  50  51  52  53\n",
            "  54  55  56  57  58  59  60  61  62  63  64  65  66  67  68  69  70  71\n",
            "  72  73  74  75  76  77  78  79  80  81  82  83  84  85  86  87  88  89\n",
            "  90  91  92  93  94  95  96  97  98  99 100 101 102 128 129 130 131 132\n",
            " 133 134 135 136 137 138 139 140 141 142 143 144 145 146 147 148 149 150\n",
            " 151 152 153 154 155 156 157 158 159 160 161 162 163 164 165 166 167 168\n",
            " 169 170 171 172 173 174 175 176 177 178 179 180 181 182 183 184 185 186\n",
            " 187 188 189 190 191 192 193 194 195 196 197 198 199 200 201 202 203 204\n",
            " 205 206 207 208 209 210 211 212 213 214 215 216 217 218 219 220 221 222\n",
            " 223 224 225 226 227 228 229 230 231 232 233 234 235 236 237 238 239 240\n",
            " 241 242 243 244 245 246 247 248 249 250 251 252] TEST: [103 104 105 106 107 108 109 110 111 112 113 114 115 116 117 118 119 120\n",
            " 121 122 123 124 125 126 127]\n",
            "TRAIN: [  0   1   2   3   4   5   6   7   8   9  10  11  12  13  14  15  16  17\n",
            "  18  19  20  21  22  23  24  25  26  27  28  29  30  31  32  33  34  35\n",
            "  36  37  38  39  40  41  42  43  44  45  46  47  48  49  50  51  52  53\n",
            "  54  55  56  57  58  59  60  61  62  63  64  65  66  67  68  69  70  71\n",
            "  72  73  74  75  76  77  78  79  80  81  82  83  84  85  86  87  88  89\n",
            "  90  91  92  93  94  95  96  97  98  99 100 101 102 103 104 105 106 107\n",
            " 108 109 110 111 112 113 114 115 116 117 118 119 120 121 122 123 124 125\n",
            " 126 127 153 154 155 156 157 158 159 160 161 162 163 164 165 166 167 168\n",
            " 169 170 171 172 173 174 175 176 177 178 179 180 181 182 183 184 185 186\n",
            " 187 188 189 190 191 192 193 194 195 196 197 198 199 200 201 202 203 204\n",
            " 205 206 207 208 209 210 211 212 213 214 215 216 217 218 219 220 221 222\n",
            " 223 224 225 226 227 228 229 230 231 232 233 234 235 236 237 238 239 240\n",
            " 241 242 243 244 245 246 247 248 249 250 251 252] TEST: [128 129 130 131 132 133 134 135 136 137 138 139 140 141 142 143 144 145\n",
            " 146 147 148 149 150 151 152]\n",
            "TRAIN: [  0   1   2   3   4   5   6   7   8   9  10  11  12  13  14  15  16  17\n",
            "  18  19  20  21  22  23  24  25  26  27  28  29  30  31  32  33  34  35\n",
            "  36  37  38  39  40  41  42  43  44  45  46  47  48  49  50  51  52  53\n",
            "  54  55  56  57  58  59  60  61  62  63  64  65  66  67  68  69  70  71\n",
            "  72  73  74  75  76  77  78  79  80  81  82  83  84  85  86  87  88  89\n",
            "  90  91  92  93  94  95  96  97  98  99 100 101 102 103 104 105 106 107\n",
            " 108 109 110 111 112 113 114 115 116 117 118 119 120 121 122 123 124 125\n",
            " 126 127 128 129 130 131 132 133 134 135 136 137 138 139 140 141 142 143\n",
            " 144 145 146 147 148 149 150 151 152 178 179 180 181 182 183 184 185 186\n",
            " 187 188 189 190 191 192 193 194 195 196 197 198 199 200 201 202 203 204\n",
            " 205 206 207 208 209 210 211 212 213 214 215 216 217 218 219 220 221 222\n",
            " 223 224 225 226 227 228 229 230 231 232 233 234 235 236 237 238 239 240\n",
            " 241 242 243 244 245 246 247 248 249 250 251 252] TEST: [153 154 155 156 157 158 159 160 161 162 163 164 165 166 167 168 169 170\n",
            " 171 172 173 174 175 176 177]\n",
            "TRAIN: [  0   1   2   3   4   5   6   7   8   9  10  11  12  13  14  15  16  17\n",
            "  18  19  20  21  22  23  24  25  26  27  28  29  30  31  32  33  34  35\n",
            "  36  37  38  39  40  41  42  43  44  45  46  47  48  49  50  51  52  53\n",
            "  54  55  56  57  58  59  60  61  62  63  64  65  66  67  68  69  70  71\n",
            "  72  73  74  75  76  77  78  79  80  81  82  83  84  85  86  87  88  89\n",
            "  90  91  92  93  94  95  96  97  98  99 100 101 102 103 104 105 106 107\n",
            " 108 109 110 111 112 113 114 115 116 117 118 119 120 121 122 123 124 125\n",
            " 126 127 128 129 130 131 132 133 134 135 136 137 138 139 140 141 142 143\n",
            " 144 145 146 147 148 149 150 151 152 153 154 155 156 157 158 159 160 161\n",
            " 162 163 164 165 166 167 168 169 170 171 172 173 174 175 176 177 203 204\n",
            " 205 206 207 208 209 210 211 212 213 214 215 216 217 218 219 220 221 222\n",
            " 223 224 225 226 227 228 229 230 231 232 233 234 235 236 237 238 239 240\n",
            " 241 242 243 244 245 246 247 248 249 250 251 252] TEST: [178 179 180 181 182 183 184 185 186 187 188 189 190 191 192 193 194 195\n",
            " 196 197 198 199 200 201 202]\n",
            "TRAIN: [  0   1   2   3   4   5   6   7   8   9  10  11  12  13  14  15  16  17\n",
            "  18  19  20  21  22  23  24  25  26  27  28  29  30  31  32  33  34  35\n",
            "  36  37  38  39  40  41  42  43  44  45  46  47  48  49  50  51  52  53\n",
            "  54  55  56  57  58  59  60  61  62  63  64  65  66  67  68  69  70  71\n",
            "  72  73  74  75  76  77  78  79  80  81  82  83  84  85  86  87  88  89\n",
            "  90  91  92  93  94  95  96  97  98  99 100 101 102 103 104 105 106 107\n",
            " 108 109 110 111 112 113 114 115 116 117 118 119 120 121 122 123 124 125\n",
            " 126 127 128 129 130 131 132 133 134 135 136 137 138 139 140 141 142 143\n",
            " 144 145 146 147 148 149 150 151 152 153 154 155 156 157 158 159 160 161\n",
            " 162 163 164 165 166 167 168 169 170 171 172 173 174 175 176 177 178 179\n",
            " 180 181 182 183 184 185 186 187 188 189 190 191 192 193 194 195 196 197\n",
            " 198 199 200 201 202 228 229 230 231 232 233 234 235 236 237 238 239 240\n",
            " 241 242 243 244 245 246 247 248 249 250 251 252] TEST: [203 204 205 206 207 208 209 210 211 212 213 214 215 216 217 218 219 220\n",
            " 221 222 223 224 225 226 227]\n",
            "TRAIN: [  0   1   2   3   4   5   6   7   8   9  10  11  12  13  14  15  16  17\n",
            "  18  19  20  21  22  23  24  25  26  27  28  29  30  31  32  33  34  35\n",
            "  36  37  38  39  40  41  42  43  44  45  46  47  48  49  50  51  52  53\n",
            "  54  55  56  57  58  59  60  61  62  63  64  65  66  67  68  69  70  71\n",
            "  72  73  74  75  76  77  78  79  80  81  82  83  84  85  86  87  88  89\n",
            "  90  91  92  93  94  95  96  97  98  99 100 101 102 103 104 105 106 107\n",
            " 108 109 110 111 112 113 114 115 116 117 118 119 120 121 122 123 124 125\n",
            " 126 127 128 129 130 131 132 133 134 135 136 137 138 139 140 141 142 143\n",
            " 144 145 146 147 148 149 150 151 152 153 154 155 156 157 158 159 160 161\n",
            " 162 163 164 165 166 167 168 169 170 171 172 173 174 175 176 177 178 179\n",
            " 180 181 182 183 184 185 186 187 188 189 190 191 192 193 194 195 196 197\n",
            " 198 199 200 201 202 203 204 205 206 207 208 209 210 211 212 213 214 215\n",
            " 216 217 218 219 220 221 222 223 224 225 226 227] TEST: [228 229 230 231 232 233 234 235 236 237 238 239 240 241 242 243 244 245\n",
            " 246 247 248 249 250 251 252]\n"
          ]
        }
      ]
    },
    {
      "cell_type": "markdown",
      "source": [
        "CONFUSSION MATRIX"
      ],
      "metadata": {
        "id": "-WBB3XrZKEZc"
      }
    },
    {
      "cell_type": "code",
      "source": [
        "from sklearn.metrics import confusion_matrix, classification_report\n",
        "\n",
        "cm_1= confusion_matrix(y_test_1, y_pred_1)\n",
        "cm_1"
      ],
      "metadata": {
        "id": "zPkmiYzFKByV",
        "colab": {
          "base_uri": "https://localhost:8080/"
        },
        "outputId": "8268d545-2cc1-42df-8908-15ed41f19f53"
      },
      "execution_count": null,
      "outputs": [
        {
          "output_type": "execute_result",
          "data": {
            "text/plain": [
              "array([[ 7,  5],\n",
              "       [ 0, 14]])"
            ]
          },
          "metadata": {},
          "execution_count": 54
        }
      ]
    },
    {
      "cell_type": "code",
      "source": [
        "import seaborn as sns\n",
        "\n",
        "sns.heatmap(cm_1, annot=True, cmap='Blues', fmt='g')\n",
        "plt.xlabel('Predicted Label')\n",
        "plt.ylabel('True Label')\n",
        "plt.title('Confusion Matrix Skenario 1')\n",
        "plt.show()"
      ],
      "metadata": {
        "id": "VzNjuTcESiMy",
        "colab": {
          "base_uri": "https://localhost:8080/",
          "height": 472
        },
        "outputId": "eac5e532-1afc-418e-f0e8-07cfb72d6fe1"
      },
      "execution_count": null,
      "outputs": [
        {
          "output_type": "display_data",
          "data": {
            "text/plain": [
              "<Figure size 640x480 with 2 Axes>"
            ],
            "image/png": "[encoded data removed]"
          },
          "metadata": {}
        }
      ]
    },
    {
      "cell_type": "code",
      "source": [
        "cm_2= confusion_matrix(y_test_2, y_pred_2)\n",
        "cm_2"
      ],
      "metadata": {
        "id": "VnE3BMlkzBks",
        "colab": {
          "base_uri": "https://localhost:8080/"
        },
        "outputId": "cdc60ba9-ff46-4824-cd55-e10bfda253f4"
      },
      "execution_count": null,
      "outputs": [
        {
          "output_type": "execute_result",
          "data": {
            "text/plain": [
              "array([[16,  6],\n",
              "       [ 1, 28]])"
            ]
          },
          "metadata": {},
          "execution_count": 56
        }
      ]
    },
    {
      "cell_type": "code",
      "source": [
        "import seaborn as sns\n",
        "\n",
        "sns.heatmap(cm_2, annot=True, cmap='Blues', fmt='g')\n",
        "plt.xlabel('Predicted Label')\n",
        "plt.ylabel('True Label')\n",
        "plt.title('Confusion Matrix Skenario 2')\n",
        "plt.show()"
      ],
      "metadata": {
        "id": "cKXww0VwSrNa",
        "colab": {
          "base_uri": "https://localhost:8080/",
          "height": 472
        },
        "outputId": "bfb9f3b5-c18d-46d9-8e76-94bb14740f95"
      },
      "execution_count": null,
      "outputs": [
        {
          "output_type": "display_data",
          "data": {
            "text/plain": [
              "<Figure size 640x480 with 2 Axes>"
            ],
            "image/png": "[encoded data removed]"
          },
          "metadata": {}
        }
      ]
    },
    {
      "cell_type": "code",
      "source": [
        "cm_3= confusion_matrix(y_test_3, y_pred_3)\n",
        "cm_3"
      ],
      "metadata": {
        "id": "xISVymPezO9h",
        "colab": {
          "base_uri": "https://localhost:8080/"
        },
        "outputId": "3c4f629d-d021-4536-f173-6e85f496b390"
      },
      "execution_count": null,
      "outputs": [
        {
          "output_type": "execute_result",
          "data": {
            "text/plain": [
              "array([[20, 10],\n",
              "       [ 0, 46]])"
            ]
          },
          "metadata": {},
          "execution_count": 58
        }
      ]
    },
    {
      "cell_type": "code",
      "source": [
        "import seaborn as sns\n",
        "\n",
        "sns.heatmap(cm_3, annot=True, cmap='Blues', fmt='g')\n",
        "plt.xlabel('Predicted Label')\n",
        "plt.ylabel('True Label')\n",
        "plt.title('Confusion Matrix Skenario 3')\n",
        "plt.show()"
      ],
      "metadata": {
        "id": "ewljC312StTx",
        "colab": {
          "base_uri": "https://localhost:8080/",
          "height": 472
        },
        "outputId": "7f76fee5-8e3d-41a9-bb8f-344675c5e176"
      },
      "execution_count": null,
      "outputs": [
        {
          "output_type": "display_data",
          "data": {
            "text/plain": [
              "<Figure size 640x480 with 2 Axes>"
            ],
            "image/png": "[encoded data removed]"
          },
          "metadata": {}
        }
      ]
    },
    {
      "cell_type": "markdown",
      "source": [
        "Classification Report"
      ],
      "metadata": {
        "id": "9_EGURBb0mM_"
      }
    },
    {
      "cell_type": "code",
      "source": [
        "report = classification_report(y_test_1, y_pred_1)\n",
        "print(report)"
      ],
      "metadata": {
        "id": "txCaZGUo0pLp",
        "colab": {
          "base_uri": "https://localhost:8080/"
        },
        "outputId": "2d048ce4-b466-4bca-cf85-46f3050f1544"
      },
      "execution_count": null,
      "outputs": [
        {
          "output_type": "stream",
          "name": "stdout",
          "text": [
            "              precision    recall  f1-score   support\n",
            "\n",
            "           0       1.00      0.58      0.74        12\n",
            "           1       0.74      1.00      0.85        14\n",
            "\n",
            "    accuracy                           0.81        26\n",
            "   macro avg       0.87      0.79      0.79        26\n",
            "weighted avg       0.86      0.81      0.80        26\n",
            "\n"
          ]
        }
      ]
    },
    {
      "cell_type": "code",
      "source": [
        "report = classification_report(y_test_2, y_pred_2)\n",
        "print(report)"
      ],
      "metadata": {
        "id": "sKzCNLZi0s2T",
        "colab": {
          "base_uri": "https://localhost:8080/"
        },
        "outputId": "5910119b-d5b8-42ae-957e-d5312fec40ac"
      },
      "execution_count": null,
      "outputs": [
        {
          "output_type": "stream",
          "name": "stdout",
          "text": [
            "              precision    recall  f1-score   support\n",
            "\n",
            "           0       0.94      0.73      0.82        22\n",
            "           1       0.82      0.97      0.89        29\n",
            "\n",
            "    accuracy                           0.86        51\n",
            "   macro avg       0.88      0.85      0.85        51\n",
            "weighted avg       0.87      0.86      0.86        51\n",
            "\n"
          ]
        }
      ]
    },
    {
      "cell_type": "code",
      "source": [
        "report = classification_report(y_test_3, y_pred_3)\n",
        "print(report)"
      ],
      "metadata": {
        "id": "n-dlQnkU0wjP",
        "colab": {
          "base_uri": "https://localhost:8080/"
        },
        "outputId": "f41df74c-33f7-4fdb-aab1-6602bd042642"
      },
      "execution_count": null,
      "outputs": [
        {
          "output_type": "stream",
          "name": "stdout",
          "text": [
            "              precision    recall  f1-score   support\n",
            "\n",
            "           0       1.00      0.67      0.80        30\n",
            "           1       0.82      1.00      0.90        46\n",
            "\n",
            "    accuracy                           0.87        76\n",
            "   macro avg       0.91      0.83      0.85        76\n",
            "weighted avg       0.89      0.87      0.86        76\n",
            "\n"
          ]
        }
      ]
    },
    {
      "cell_type": "markdown",
      "source": [
        "# Grafik Decision Tree\n"
      ],
      "metadata": {
        "id": "EP7B9MLx7VR1"
      }
    },
    {
      "cell_type": "markdown",
      "source": [
        "Menampilkan grafik decision tree"
      ],
      "metadata": {
        "id": "OguolczMgjrB"
      }
    },
    {
      "cell_type": "code",
      "source": [
        "from sklearn.tree import export_graphviz\n",
        "export_graphviz(model_3, out_file=\"tree_stroke.dot\", class_names=[\"Tidak Lolos\",\"Lolos\"],\n",
        "                feature_names=X.columns, impurity=True, filled=True, rounded=True, special_characters=True, \n",
        "                precision=3)"
      ],
      "metadata": {
        "id": "co_tMMznI35S"
      },
      "execution_count": null,
      "outputs": []
    },
    {
      "cell_type": "code",
      "source": [
        "import graphviz\n",
        "\n",
        "with open(\"tree_stroke.dot\") as fig:\n",
        "  dot_graph = fig.read()\n",
        "graphviz.Source(dot_graph)"
      ],
      "metadata": {
        "id": "Qh56DTAyJvms",
        "colab": {
          "base_uri": "https://localhost:8080/",
          "height": 777
        },
        "outputId": "c3f6f98a-9af3-4630-c5d5-b9db0fd8b311"
      },
      "execution_count": null,
      "outputs": [
        {
          "output_type": "execute_result",
          "data": {
            "image/svg+xml": "<?xml version=\"1.0\" encoding=\"UTF-8\" standalone=\"no\"?>\n<!DOCTYPE svg PUBLIC \"-//W3C//DTD SVG 1.1//EN\"\n \"http://www.w3.org/Graphics/SVG/1.1/DTD/svg11.dtd\">\n<!-- Generated by graphviz version 2.43.0 (0)\n -->\n<!-- Title: Tree Pages: 1 -->\n<svg width=\"839pt\" height=\"552pt\"\n viewBox=\"0.00 0.00 838.50 552.00\" xmlns=\"http://www.w3.org/2000/svg\" xmlns:xlink=\"http://www.w3.org/1999/xlink\">\n<g id=\"graph0\" class=\"graph\" transform=\"scale(1 1) rotate(0) translate(4 548)\">\n<title>Tree</title>\n<polygon fill=\"white\" stroke=\"transparent\" points=\"-4,4 -4,-548 834.5,-548 834.5,4 -4,4\"/>\n<!-- 0 -->\n<g id=\"node1\" class=\"node\">\n<title>0</title>\n<path fill=\"#d5eaf9\" stroke=\"black\" d=\"M459.5,-544C459.5,-544 355.5,-544 355.5,-544 349.5,-544 343.5,-538 343.5,-532 343.5,-532 343.5,-473 343.5,-473 343.5,-467 349.5,-461 355.5,-461 355.5,-461 459.5,-461 459.5,-461 465.5,-461 471.5,-467 471.5,-473 471.5,-473 471.5,-532 471.5,-532 471.5,-538 465.5,-544 459.5,-544\"/>\n<text text-anchor=\"start\" x=\"351.5\" y=\"-528.8\" font-family=\"Helvetica,sans-Serif\" font-size=\"14.00\">Test Teknikal ≤ 0.5</text>\n<text text-anchor=\"start\" x=\"372\" y=\"-513.8\" font-family=\"Helvetica,sans-Serif\" font-size=\"14.00\">gini = 0.493</text>\n<text text-anchor=\"start\" x=\"362.5\" y=\"-498.8\" font-family=\"Helvetica,sans-Serif\" font-size=\"14.00\">samples = 177</text>\n<text text-anchor=\"start\" x=\"360.5\" y=\"-483.8\" font-family=\"Helvetica,sans-Serif\" font-size=\"14.00\">value = [78, 99]</text>\n<text text-anchor=\"start\" x=\"368\" y=\"-468.8\" font-family=\"Helvetica,sans-Serif\" font-size=\"14.00\">class = Lolos</text>\n</g>\n<!-- 1 -->\n<g id=\"node2\" class=\"node\">\n<title>1</title>\n<path fill=\"#5caeea\" stroke=\"black\" d=\"M384.5,-425C384.5,-425 286.5,-425 286.5,-425 280.5,-425 274.5,-419 274.5,-413 274.5,-413 274.5,-354 274.5,-354 274.5,-348 280.5,-342 286.5,-342 286.5,-342 384.5,-342 384.5,-342 390.5,-342 396.5,-348 396.5,-354 396.5,-354 396.5,-413 396.5,-413 396.5,-419 390.5,-425 384.5,-425\"/>\n<text text-anchor=\"start\" x=\"282.5\" y=\"-409.8\" font-family=\"Helvetica,sans-Serif\" font-size=\"14.00\">Wawancara ≤ 1.5</text>\n<text text-anchor=\"start\" x=\"300\" y=\"-394.8\" font-family=\"Helvetica,sans-Serif\" font-size=\"14.00\">gini = 0.256</text>\n<text text-anchor=\"start\" x=\"294.5\" y=\"-379.8\" font-family=\"Helvetica,sans-Serif\" font-size=\"14.00\">samples = 93</text>\n<text text-anchor=\"start\" x=\"288.5\" y=\"-364.8\" font-family=\"Helvetica,sans-Serif\" font-size=\"14.00\">value = [14, 79]</text>\n<text text-anchor=\"start\" x=\"296\" y=\"-349.8\" font-family=\"Helvetica,sans-Serif\" font-size=\"14.00\">class = Lolos</text>\n</g>\n<!-- 0&#45;&gt;1 -->\n<g id=\"edge1\" class=\"edge\">\n<title>0&#45;&gt;1</title>\n<path fill=\"none\" stroke=\"black\" d=\"M382.52,-460.91C377.1,-452.1 371.32,-442.7 365.72,-433.61\"/>\n<polygon fill=\"black\" stroke=\"black\" points=\"368.66,-431.7 360.44,-425.02 362.7,-435.37 368.66,-431.7\"/>\n<text text-anchor=\"middle\" x=\"354.65\" y=\"-445.64\" font-family=\"Helvetica,sans-Serif\" font-size=\"14.00\">True</text>\n</g>\n<!-- 10 -->\n<g id=\"node11\" class=\"node\">\n<title>10</title>\n<path fill=\"#eda877\" stroke=\"black\" d=\"M534.5,-425C534.5,-425 426.5,-425 426.5,-425 420.5,-425 414.5,-419 414.5,-413 414.5,-413 414.5,-354 414.5,-354 414.5,-348 420.5,-342 426.5,-342 426.5,-342 534.5,-342 534.5,-342 540.5,-342 546.5,-348 546.5,-354 546.5,-354 546.5,-413 546.5,-413 546.5,-419 540.5,-425 534.5,-425\"/>\n<text text-anchor=\"start\" x=\"427.5\" y=\"-409.8\" font-family=\"Helvetica,sans-Serif\" font-size=\"14.00\">Wawancara ≤ 0.5</text>\n<text text-anchor=\"start\" x=\"445\" y=\"-394.8\" font-family=\"Helvetica,sans-Serif\" font-size=\"14.00\">gini = 0.363</text>\n<text text-anchor=\"start\" x=\"439.5\" y=\"-379.8\" font-family=\"Helvetica,sans-Serif\" font-size=\"14.00\">samples = 84</text>\n<text text-anchor=\"start\" x=\"433.5\" y=\"-364.8\" font-family=\"Helvetica,sans-Serif\" font-size=\"14.00\">value = [64, 20]</text>\n<text text-anchor=\"start\" x=\"422.5\" y=\"-349.8\" font-family=\"Helvetica,sans-Serif\" font-size=\"14.00\">class = Tidak Lolos</text>\n</g>\n<!-- 0&#45;&gt;10 -->\n<g id=\"edge10\" class=\"edge\">\n<title>0&#45;&gt;10</title>\n<path fill=\"none\" stroke=\"black\" d=\"M432.83,-460.91C438.32,-452.1 444.19,-442.7 449.86,-433.61\"/>\n<polygon fill=\"black\" stroke=\"black\" points=\"452.89,-435.36 455.22,-425.02 446.95,-431.65 452.89,-435.36\"/>\n<text text-anchor=\"middle\" x=\"460.86\" y=\"-445.68\" font-family=\"Helvetica,sans-Serif\" font-size=\"14.00\">False</text>\n</g>\n<!-- 2 -->\n<g id=\"node3\" class=\"node\">\n<title>2</title>\n<path fill=\"#50a8e8\" stroke=\"black\" d=\"M243,-306C243,-306 136,-306 136,-306 130,-306 124,-300 124,-294 124,-294 124,-235 124,-235 124,-229 130,-223 136,-223 136,-223 243,-223 243,-223 249,-223 255,-229 255,-235 255,-235 255,-294 255,-294 255,-300 249,-306 243,-306\"/>\n<text text-anchor=\"start\" x=\"132\" y=\"-290.8\" font-family=\"Helvetica,sans-Serif\" font-size=\"14.00\">Respon Mitra ≤ 0.5</text>\n<text text-anchor=\"start\" x=\"154\" y=\"-275.8\" font-family=\"Helvetica,sans-Serif\" font-size=\"14.00\">gini = 0.184</text>\n<text text-anchor=\"start\" x=\"148.5\" y=\"-260.8\" font-family=\"Helvetica,sans-Serif\" font-size=\"14.00\">samples = 88</text>\n<text text-anchor=\"start\" x=\"146.5\" y=\"-245.8\" font-family=\"Helvetica,sans-Serif\" font-size=\"14.00\">value = [9, 79]</text>\n<text text-anchor=\"start\" x=\"150\" y=\"-230.8\" font-family=\"Helvetica,sans-Serif\" font-size=\"14.00\">class = Lolos</text>\n</g>\n<!-- 1&#45;&gt;2 -->\n<g id=\"edge2\" class=\"edge\">\n<title>1&#45;&gt;2</title>\n<path fill=\"none\" stroke=\"black\" d=\"M284.85,-341.91C272.96,-332.38 260.19,-322.15 247.99,-312.37\"/>\n<polygon fill=\"black\" stroke=\"black\" points=\"250.06,-309.54 240.06,-306.02 245.68,-315.01 250.06,-309.54\"/>\n</g>\n<!-- 9 -->\n<g id=\"node10\" class=\"node\">\n<title>9</title>\n<path fill=\"#e58139\" stroke=\"black\" d=\"M393.5,-298.5C393.5,-298.5 285.5,-298.5 285.5,-298.5 279.5,-298.5 273.5,-292.5 273.5,-286.5 273.5,-286.5 273.5,-242.5 273.5,-242.5 273.5,-236.5 279.5,-230.5 285.5,-230.5 285.5,-230.5 393.5,-230.5 393.5,-230.5 399.5,-230.5 405.5,-236.5 405.5,-242.5 405.5,-242.5 405.5,-286.5 405.5,-286.5 405.5,-292.5 399.5,-298.5 393.5,-298.5\"/>\n<text text-anchor=\"start\" x=\"311.5\" y=\"-283.3\" font-family=\"Helvetica,sans-Serif\" font-size=\"14.00\">gini = 0.0</text>\n<text text-anchor=\"start\" x=\"302\" y=\"-268.3\" font-family=\"Helvetica,sans-Serif\" font-size=\"14.00\">samples = 5</text>\n<text text-anchor=\"start\" x=\"300\" y=\"-253.3\" font-family=\"Helvetica,sans-Serif\" font-size=\"14.00\">value = [5, 0]</text>\n<text text-anchor=\"start\" x=\"281.5\" y=\"-238.3\" font-family=\"Helvetica,sans-Serif\" font-size=\"14.00\">class = Tidak Lolos</text>\n</g>\n<!-- 1&#45;&gt;9 -->\n<g id=\"edge9\" class=\"edge\">\n<title>1&#45;&gt;9</title>\n<path fill=\"none\" stroke=\"black\" d=\"M336.89,-341.91C337.25,-331.2 337.65,-319.62 338.02,-308.78\"/>\n<polygon fill=\"black\" stroke=\"black\" points=\"341.52,-308.78 338.37,-298.67 334.53,-308.54 341.52,-308.78\"/>\n</g>\n<!-- 3 -->\n<g id=\"node4\" class=\"node\">\n<title>3</title>\n<path fill=\"#f2c09c\" stroke=\"black\" d=\"M230.5,-187C230.5,-187 122.5,-187 122.5,-187 116.5,-187 110.5,-181 110.5,-175 110.5,-175 110.5,-116 110.5,-116 110.5,-110 116.5,-104 122.5,-104 122.5,-104 230.5,-104 230.5,-104 236.5,-104 242.5,-110 242.5,-116 242.5,-116 242.5,-175 242.5,-175 242.5,-181 236.5,-187 230.5,-187\"/>\n<text text-anchor=\"start\" x=\"123.5\" y=\"-171.8\" font-family=\"Helvetica,sans-Serif\" font-size=\"14.00\">Wawancara ≤ 0.5</text>\n<text text-anchor=\"start\" x=\"141\" y=\"-156.8\" font-family=\"Helvetica,sans-Serif\" font-size=\"14.00\">gini = 0.444</text>\n<text text-anchor=\"start\" x=\"139\" y=\"-141.8\" font-family=\"Helvetica,sans-Serif\" font-size=\"14.00\">samples = 3</text>\n<text text-anchor=\"start\" x=\"137\" y=\"-126.8\" font-family=\"Helvetica,sans-Serif\" font-size=\"14.00\">value = [2, 1]</text>\n<text text-anchor=\"start\" x=\"118.5\" y=\"-111.8\" font-family=\"Helvetica,sans-Serif\" font-size=\"14.00\">class = Tidak Lolos</text>\n</g>\n<!-- 2&#45;&gt;3 -->\n<g id=\"edge3\" class=\"edge\">\n<title>2&#45;&gt;3</title>\n<path fill=\"none\" stroke=\"black\" d=\"M184.99,-222.91C184.06,-214.56 183.07,-205.67 182.11,-197.02\"/>\n<polygon fill=\"black\" stroke=\"black\" points=\"185.59,-196.57 181,-187.02 178.63,-197.35 185.59,-196.57\"/>\n</g>\n<!-- 6 -->\n<g id=\"node7\" class=\"node\">\n<title>6</title>\n<path fill=\"#4ba6e7\" stroke=\"black\" d=\"M370.5,-187C370.5,-187 272.5,-187 272.5,-187 266.5,-187 260.5,-181 260.5,-175 260.5,-175 260.5,-116 260.5,-116 260.5,-110 266.5,-104 272.5,-104 272.5,-104 370.5,-104 370.5,-104 376.5,-104 382.5,-110 382.5,-116 382.5,-116 382.5,-175 382.5,-175 382.5,-181 376.5,-187 370.5,-187\"/>\n<text text-anchor=\"start\" x=\"268.5\" y=\"-171.8\" font-family=\"Helvetica,sans-Serif\" font-size=\"14.00\">Wawancara ≤ 0.5</text>\n<text text-anchor=\"start\" x=\"286\" y=\"-156.8\" font-family=\"Helvetica,sans-Serif\" font-size=\"14.00\">gini = 0.151</text>\n<text text-anchor=\"start\" x=\"280.5\" y=\"-141.8\" font-family=\"Helvetica,sans-Serif\" font-size=\"14.00\">samples = 85</text>\n<text text-anchor=\"start\" x=\"278.5\" y=\"-126.8\" font-family=\"Helvetica,sans-Serif\" font-size=\"14.00\">value = [7, 78]</text>\n<text text-anchor=\"start\" x=\"282\" y=\"-111.8\" font-family=\"Helvetica,sans-Serif\" font-size=\"14.00\">class = Lolos</text>\n</g>\n<!-- 2&#45;&gt;6 -->\n<g id=\"edge6\" class=\"edge\">\n<title>2&#45;&gt;6</title>\n<path fill=\"none\" stroke=\"black\" d=\"M235.3,-222.91C245.84,-213.56 257.15,-203.54 267.99,-193.93\"/>\n<polygon fill=\"black\" stroke=\"black\" points=\"270.62,-196.27 275.78,-187.02 265.98,-191.03 270.62,-196.27\"/>\n</g>\n<!-- 4 -->\n<g id=\"node5\" class=\"node\">\n<title>4</title>\n<path fill=\"#399de5\" stroke=\"black\" d=\"M83,-68C83,-68 12,-68 12,-68 6,-68 0,-62 0,-56 0,-56 0,-12 0,-12 0,-6 6,0 12,0 12,0 83,0 83,0 89,0 95,-6 95,-12 95,-12 95,-56 95,-56 95,-62 89,-68 83,-68\"/>\n<text text-anchor=\"start\" x=\"19.5\" y=\"-52.8\" font-family=\"Helvetica,sans-Serif\" font-size=\"14.00\">gini = 0.0</text>\n<text text-anchor=\"start\" x=\"10\" y=\"-37.8\" font-family=\"Helvetica,sans-Serif\" font-size=\"14.00\">samples = 1</text>\n<text text-anchor=\"start\" x=\"8\" y=\"-22.8\" font-family=\"Helvetica,sans-Serif\" font-size=\"14.00\">value = [0, 1]</text>\n<text text-anchor=\"start\" x=\"8\" y=\"-7.8\" font-family=\"Helvetica,sans-Serif\" font-size=\"14.00\">class = Lolos</text>\n</g>\n<!-- 3&#45;&gt;4 -->\n<g id=\"edge4\" class=\"edge\">\n<title>3&#45;&gt;4</title>\n<path fill=\"none\" stroke=\"black\" d=\"M128.47,-103.73C117.4,-94.33 105.64,-84.35 94.61,-74.99\"/>\n<polygon fill=\"black\" stroke=\"black\" points=\"96.62,-72.1 86.73,-68.3 92.09,-77.44 96.62,-72.1\"/>\n</g>\n<!-- 5 -->\n<g id=\"node6\" class=\"node\">\n<title>5</title>\n<path fill=\"#e58139\" stroke=\"black\" d=\"M233.5,-68C233.5,-68 125.5,-68 125.5,-68 119.5,-68 113.5,-62 113.5,-56 113.5,-56 113.5,-12 113.5,-12 113.5,-6 119.5,0 125.5,0 125.5,0 233.5,0 233.5,0 239.5,0 245.5,-6 245.5,-12 245.5,-12 245.5,-56 245.5,-56 245.5,-62 239.5,-68 233.5,-68\"/>\n<text text-anchor=\"start\" x=\"151.5\" y=\"-52.8\" font-family=\"Helvetica,sans-Serif\" font-size=\"14.00\">gini = 0.0</text>\n<text text-anchor=\"start\" x=\"142\" y=\"-37.8\" font-family=\"Helvetica,sans-Serif\" font-size=\"14.00\">samples = 2</text>\n<text text-anchor=\"start\" x=\"140\" y=\"-22.8\" font-family=\"Helvetica,sans-Serif\" font-size=\"14.00\">value = [2, 0]</text>\n<text text-anchor=\"start\" x=\"121.5\" y=\"-7.8\" font-family=\"Helvetica,sans-Serif\" font-size=\"14.00\">class = Tidak Lolos</text>\n</g>\n<!-- 3&#45;&gt;5 -->\n<g id=\"edge5\" class=\"edge\">\n<title>3&#45;&gt;5</title>\n<path fill=\"none\" stroke=\"black\" d=\"M177.62,-103.73C177.84,-95.52 178.08,-86.86 178.31,-78.56\"/>\n<polygon fill=\"black\" stroke=\"black\" points=\"181.81,-78.39 178.59,-68.3 174.82,-78.2 181.81,-78.39\"/>\n</g>\n<!-- 7 -->\n<g id=\"node8\" class=\"node\">\n<title>7</title>\n<path fill=\"#40a0e6\" stroke=\"black\" d=\"M358.5,-68C358.5,-68 280.5,-68 280.5,-68 274.5,-68 268.5,-62 268.5,-56 268.5,-56 268.5,-12 268.5,-12 268.5,-6 274.5,0 280.5,0 280.5,0 358.5,0 358.5,0 364.5,0 370.5,-6 370.5,-12 370.5,-12 370.5,-56 370.5,-56 370.5,-62 364.5,-68 358.5,-68\"/>\n<text text-anchor=\"start\" x=\"284\" y=\"-52.8\" font-family=\"Helvetica,sans-Serif\" font-size=\"14.00\">gini = 0.062</text>\n<text text-anchor=\"start\" x=\"278.5\" y=\"-37.8\" font-family=\"Helvetica,sans-Serif\" font-size=\"14.00\">samples = 31</text>\n<text text-anchor=\"start\" x=\"276.5\" y=\"-22.8\" font-family=\"Helvetica,sans-Serif\" font-size=\"14.00\">value = [1, 30]</text>\n<text text-anchor=\"start\" x=\"280\" y=\"-7.8\" font-family=\"Helvetica,sans-Serif\" font-size=\"14.00\">class = Lolos</text>\n</g>\n<!-- 6&#45;&gt;7 -->\n<g id=\"edge7\" class=\"edge\">\n<title>6&#45;&gt;7</title>\n<path fill=\"none\" stroke=\"black\" d=\"M320.76,-103.73C320.61,-95.52 320.45,-86.86 320.3,-78.56\"/>\n<polygon fill=\"black\" stroke=\"black\" points=\"323.79,-78.23 320.11,-68.3 316.79,-78.36 323.79,-78.23\"/>\n</g>\n<!-- 8 -->\n<g id=\"node9\" class=\"node\">\n<title>8</title>\n<path fill=\"#52a9e8\" stroke=\"black\" d=\"M478.5,-68C478.5,-68 400.5,-68 400.5,-68 394.5,-68 388.5,-62 388.5,-56 388.5,-56 388.5,-12 388.5,-12 388.5,-6 394.5,0 400.5,0 400.5,0 478.5,0 478.5,0 484.5,0 490.5,-6 490.5,-12 490.5,-12 490.5,-56 490.5,-56 490.5,-62 484.5,-68 478.5,-68\"/>\n<text text-anchor=\"start\" x=\"404\" y=\"-52.8\" font-family=\"Helvetica,sans-Serif\" font-size=\"14.00\">gini = 0.198</text>\n<text text-anchor=\"start\" x=\"398.5\" y=\"-37.8\" font-family=\"Helvetica,sans-Serif\" font-size=\"14.00\">samples = 54</text>\n<text text-anchor=\"start\" x=\"396.5\" y=\"-22.8\" font-family=\"Helvetica,sans-Serif\" font-size=\"14.00\">value = [6, 48]</text>\n<text text-anchor=\"start\" x=\"400\" y=\"-7.8\" font-family=\"Helvetica,sans-Serif\" font-size=\"14.00\">class = Lolos</text>\n</g>\n<!-- 6&#45;&gt;8 -->\n<g id=\"edge8\" class=\"edge\">\n<title>6&#45;&gt;8</title>\n<path fill=\"none\" stroke=\"black\" d=\"M365.44,-103.73C375.46,-94.42 386.11,-84.54 396.11,-75.26\"/>\n<polygon fill=\"black\" stroke=\"black\" points=\"398.67,-77.67 403.62,-68.3 393.9,-72.54 398.67,-77.67\"/>\n</g>\n<!-- 11 -->\n<g id=\"node12\" class=\"node\">\n<title>11</title>\n<path fill=\"#399de5\" stroke=\"black\" d=\"M513,-298.5C513,-298.5 442,-298.5 442,-298.5 436,-298.5 430,-292.5 430,-286.5 430,-286.5 430,-242.5 430,-242.5 430,-236.5 436,-230.5 442,-230.5 442,-230.5 513,-230.5 513,-230.5 519,-230.5 525,-236.5 525,-242.5 525,-242.5 525,-286.5 525,-286.5 525,-292.5 519,-298.5 513,-298.5\"/>\n<text text-anchor=\"start\" x=\"449.5\" y=\"-283.3\" font-family=\"Helvetica,sans-Serif\" font-size=\"14.00\">gini = 0.0</text>\n<text text-anchor=\"start\" x=\"440\" y=\"-268.3\" font-family=\"Helvetica,sans-Serif\" font-size=\"14.00\">samples = 6</text>\n<text text-anchor=\"start\" x=\"438\" y=\"-253.3\" font-family=\"Helvetica,sans-Serif\" font-size=\"14.00\">value = [0, 6]</text>\n<text text-anchor=\"start\" x=\"438\" y=\"-238.3\" font-family=\"Helvetica,sans-Serif\" font-size=\"14.00\">class = Lolos</text>\n</g>\n<!-- 10&#45;&gt;11 -->\n<g id=\"edge11\" class=\"edge\">\n<title>10&#45;&gt;11</title>\n<path fill=\"none\" stroke=\"black\" d=\"M479.46,-341.91C479.18,-331.2 478.89,-319.62 478.61,-308.78\"/>\n<polygon fill=\"black\" stroke=\"black\" points=\"482.11,-308.57 478.35,-298.67 475.11,-308.75 482.11,-308.57\"/>\n</g>\n<!-- 12 -->\n<g id=\"node13\" class=\"node\">\n<title>12</title>\n<path fill=\"#eb9d64\" stroke=\"black\" d=\"M663.5,-306C663.5,-306 555.5,-306 555.5,-306 549.5,-306 543.5,-300 543.5,-294 543.5,-294 543.5,-235 543.5,-235 543.5,-229 549.5,-223 555.5,-223 555.5,-223 663.5,-223 663.5,-223 669.5,-223 675.5,-229 675.5,-235 675.5,-235 675.5,-294 675.5,-294 675.5,-300 669.5,-306 663.5,-306\"/>\n<text text-anchor=\"start\" x=\"552\" y=\"-290.8\" font-family=\"Helvetica,sans-Serif\" font-size=\"14.00\">Respon Mitra ≤ 0.5</text>\n<text text-anchor=\"start\" x=\"574\" y=\"-275.8\" font-family=\"Helvetica,sans-Serif\" font-size=\"14.00\">gini = 0.295</text>\n<text text-anchor=\"start\" x=\"568.5\" y=\"-260.8\" font-family=\"Helvetica,sans-Serif\" font-size=\"14.00\">samples = 78</text>\n<text text-anchor=\"start\" x=\"562.5\" y=\"-245.8\" font-family=\"Helvetica,sans-Serif\" font-size=\"14.00\">value = [64, 14]</text>\n<text text-anchor=\"start\" x=\"551.5\" y=\"-230.8\" font-family=\"Helvetica,sans-Serif\" font-size=\"14.00\">class = Tidak Lolos</text>\n</g>\n<!-- 10&#45;&gt;12 -->\n<g id=\"edge12\" class=\"edge\">\n<title>10&#45;&gt;12</title>\n<path fill=\"none\" stroke=\"black\" d=\"M525.26,-341.91C535.56,-332.56 546.61,-322.54 557.21,-312.93\"/>\n<polygon fill=\"black\" stroke=\"black\" points=\"559.77,-315.33 564.82,-306.02 555.06,-310.15 559.77,-315.33\"/>\n</g>\n<!-- 13 -->\n<g id=\"node14\" class=\"node\">\n<title>13</title>\n<path fill=\"#e58139\" stroke=\"black\" d=\"M591.5,-179.5C591.5,-179.5 483.5,-179.5 483.5,-179.5 477.5,-179.5 471.5,-173.5 471.5,-167.5 471.5,-167.5 471.5,-123.5 471.5,-123.5 471.5,-117.5 477.5,-111.5 483.5,-111.5 483.5,-111.5 591.5,-111.5 591.5,-111.5 597.5,-111.5 603.5,-117.5 603.5,-123.5 603.5,-123.5 603.5,-167.5 603.5,-167.5 603.5,-173.5 597.5,-179.5 591.5,-179.5\"/>\n<text text-anchor=\"start\" x=\"509.5\" y=\"-164.3\" font-family=\"Helvetica,sans-Serif\" font-size=\"14.00\">gini = 0.0</text>\n<text text-anchor=\"start\" x=\"496.5\" y=\"-149.3\" font-family=\"Helvetica,sans-Serif\" font-size=\"14.00\">samples = 36</text>\n<text text-anchor=\"start\" x=\"494.5\" y=\"-134.3\" font-family=\"Helvetica,sans-Serif\" font-size=\"14.00\">value = [36, 0]</text>\n<text text-anchor=\"start\" x=\"479.5\" y=\"-119.3\" font-family=\"Helvetica,sans-Serif\" font-size=\"14.00\">class = Tidak Lolos</text>\n</g>\n<!-- 12&#45;&gt;13 -->\n<g id=\"edge13\" class=\"edge\">\n<title>12&#45;&gt;13</title>\n<path fill=\"none\" stroke=\"black\" d=\"M584.52,-222.91C577.66,-211.76 570.21,-199.66 563.31,-188.44\"/>\n<polygon fill=\"black\" stroke=\"black\" points=\"566.13,-186.35 557.91,-179.67 560.17,-190.02 566.13,-186.35\"/>\n</g>\n<!-- 14 -->\n<g id=\"node15\" class=\"node\">\n<title>14</title>\n<path fill=\"#f2c09c\" stroke=\"black\" d=\"M741.5,-187C741.5,-187 633.5,-187 633.5,-187 627.5,-187 621.5,-181 621.5,-175 621.5,-175 621.5,-116 621.5,-116 621.5,-110 627.5,-104 633.5,-104 633.5,-104 741.5,-104 741.5,-104 747.5,-104 753.5,-110 753.5,-116 753.5,-116 753.5,-175 753.5,-175 753.5,-181 747.5,-187 741.5,-187\"/>\n<text text-anchor=\"start\" x=\"634.5\" y=\"-171.8\" font-family=\"Helvetica,sans-Serif\" font-size=\"14.00\">Wawancara ≤ 1.5</text>\n<text text-anchor=\"start\" x=\"652\" y=\"-156.8\" font-family=\"Helvetica,sans-Serif\" font-size=\"14.00\">gini = 0.444</text>\n<text text-anchor=\"start\" x=\"646.5\" y=\"-141.8\" font-family=\"Helvetica,sans-Serif\" font-size=\"14.00\">samples = 42</text>\n<text text-anchor=\"start\" x=\"640.5\" y=\"-126.8\" font-family=\"Helvetica,sans-Serif\" font-size=\"14.00\">value = [28, 14]</text>\n<text text-anchor=\"start\" x=\"629.5\" y=\"-111.8\" font-family=\"Helvetica,sans-Serif\" font-size=\"14.00\">class = Tidak Lolos</text>\n</g>\n<!-- 12&#45;&gt;14 -->\n<g id=\"edge14\" class=\"edge\">\n<title>12&#45;&gt;14</title>\n<path fill=\"none\" stroke=\"black\" d=\"M636.56,-222.91C642.43,-214.1 648.7,-204.7 654.76,-195.61\"/>\n<polygon fill=\"black\" stroke=\"black\" points=\"657.85,-197.28 660.49,-187.02 652.03,-193.4 657.85,-197.28\"/>\n</g>\n<!-- 15 -->\n<g id=\"node16\" class=\"node\">\n<title>15</title>\n<path fill=\"#c6e3f8\" stroke=\"black\" d=\"M668.5,-68C668.5,-68 582.5,-68 582.5,-68 576.5,-68 570.5,-62 570.5,-56 570.5,-56 570.5,-12 570.5,-12 570.5,-6 576.5,0 582.5,0 582.5,0 668.5,0 668.5,0 674.5,0 680.5,-6 680.5,-12 680.5,-12 680.5,-56 680.5,-56 680.5,-62 674.5,-68 668.5,-68\"/>\n<text text-anchor=\"start\" x=\"590\" y=\"-52.8\" font-family=\"Helvetica,sans-Serif\" font-size=\"14.00\">gini = 0.486</text>\n<text text-anchor=\"start\" x=\"584.5\" y=\"-37.8\" font-family=\"Helvetica,sans-Serif\" font-size=\"14.00\">samples = 24</text>\n<text text-anchor=\"start\" x=\"578.5\" y=\"-22.8\" font-family=\"Helvetica,sans-Serif\" font-size=\"14.00\">value = [10, 14]</text>\n<text text-anchor=\"start\" x=\"586\" y=\"-7.8\" font-family=\"Helvetica,sans-Serif\" font-size=\"14.00\">class = Lolos</text>\n</g>\n<!-- 14&#45;&gt;15 -->\n<g id=\"edge15\" class=\"edge\">\n<title>14&#45;&gt;15</title>\n<path fill=\"none\" stroke=\"black\" d=\"M664.41,-103.73C659.51,-95.06 654.32,-85.9 649.38,-77.18\"/>\n<polygon fill=\"black\" stroke=\"black\" points=\"652.33,-75.28 644.35,-68.3 646.24,-78.73 652.33,-75.28\"/>\n</g>\n<!-- 16 -->\n<g id=\"node17\" class=\"node\">\n<title>16</title>\n<path fill=\"#e58139\" stroke=\"black\" d=\"M818.5,-68C818.5,-68 710.5,-68 710.5,-68 704.5,-68 698.5,-62 698.5,-56 698.5,-56 698.5,-12 698.5,-12 698.5,-6 704.5,0 710.5,0 710.5,0 818.5,0 818.5,0 824.5,0 830.5,-6 830.5,-12 830.5,-12 830.5,-56 830.5,-56 830.5,-62 824.5,-68 818.5,-68\"/>\n<text text-anchor=\"start\" x=\"736.5\" y=\"-52.8\" font-family=\"Helvetica,sans-Serif\" font-size=\"14.00\">gini = 0.0</text>\n<text text-anchor=\"start\" x=\"723.5\" y=\"-37.8\" font-family=\"Helvetica,sans-Serif\" font-size=\"14.00\">samples = 18</text>\n<text text-anchor=\"start\" x=\"721.5\" y=\"-22.8\" font-family=\"Helvetica,sans-Serif\" font-size=\"14.00\">value = [18, 0]</text>\n<text text-anchor=\"start\" x=\"706.5\" y=\"-7.8\" font-family=\"Helvetica,sans-Serif\" font-size=\"14.00\">class = Tidak Lolos</text>\n</g>\n<!-- 14&#45;&gt;16 -->\n<g id=\"edge16\" class=\"edge\">\n<title>14&#45;&gt;16</title>\n<path fill=\"none\" stroke=\"black\" d=\"M716.17,-103.73C722.39,-94.88 728.98,-85.51 735.23,-76.63\"/>\n<polygon fill=\"black\" stroke=\"black\" points=\"738.19,-78.49 741.08,-68.3 732.47,-74.47 738.19,-78.49\"/>\n</g>\n</g>\n</svg>\n",
            "text/plain": [
              "<graphviz.sources.Source at 0x7f561403ee60>"
            ]
          },
          "metadata": {},
          "execution_count": 64
        }
      ]
    },
    {
      "cell_type": "code",
      "source": [
        "from sklearn import tree\n",
        "text_representation = tree.export_text(model_3)\n",
        "print(text_representation)\n"
      ],
      "metadata": {
        "id": "5bh3vKzMJ1Fe",
        "colab": {
          "base_uri": "https://localhost:8080/"
        },
        "outputId": "3dc61c73-cd6e-4d9a-f31e-d36a2e128236"
      },
      "execution_count": null,
      "outputs": [
        {
          "output_type": "stream",
          "name": "stdout",
          "text": [
            "|--- feature_2 <= 0.50\n",
            "|   |--- feature_3 <= 1.50\n",
            "|   |   |--- feature_1 <= 0.50\n",
            "|   |   |   |--- feature_3 <= 0.50\n",
            "|   |   |   |   |--- class: 1\n",
            "|   |   |   |--- feature_3 >  0.50\n",
            "|   |   |   |   |--- class: 0\n",
            "|   |   |--- feature_1 >  0.50\n",
            "|   |   |   |--- feature_3 <= 0.50\n",
            "|   |   |   |   |--- class: 1\n",
            "|   |   |   |--- feature_3 >  0.50\n",
            "|   |   |   |   |--- class: 1\n",
            "|   |--- feature_3 >  1.50\n",
            "|   |   |--- class: 0\n",
            "|--- feature_2 >  0.50\n",
            "|   |--- feature_3 <= 0.50\n",
            "|   |   |--- class: 1\n",
            "|   |--- feature_3 >  0.50\n",
            "|   |   |--- feature_1 <= 0.50\n",
            "|   |   |   |--- class: 0\n",
            "|   |   |--- feature_1 >  0.50\n",
            "|   |   |   |--- feature_3 <= 1.50\n",
            "|   |   |   |   |--- class: 1\n",
            "|   |   |   |--- feature_3 >  1.50\n",
            "|   |   |   |   |--- class: 0\n",
            "\n"
          ]
        }
      ]
    },
    {
      "cell_type": "code",
      "source": [
        "import pydot\n",
        "\n",
        "(graph,) = pydot.graph_from_dot_file('tree_stroke.dot')\n",
        "graph.write_png('Post-Prunig.png')"
      ],
      "metadata": {
        "id": "MU6Atf_2Fe3o"
      },
      "execution_count": null,
      "outputs": []
    }
  ]
}